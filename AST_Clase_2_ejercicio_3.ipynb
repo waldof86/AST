{
  "cells": [
    {
      "cell_type": "markdown",
      "metadata": {
        "id": "jIlvt2BuyxW9"
      },
      "source": [
        "<div class=\"alert alert-block alert-info\">\n",
        "    <h1>Análisis de Series Temporales - 2023</h1>\n",
        "    <h3>Clase 2</h3>\n",
        "    <h5>Ejercicio 3</h5>\n",
        "        <p>Docente: Rodrigo Del Rosso<p>\n",
        "        <p>Asistentes: Sebastián Calcagno y Braian Drago <p>\n",
        "</div>"
      ]
    },
    {
      "cell_type": "code",
      "execution_count": 12,
      "metadata": {
        "id": "pZx6zSvtyxtH"
      },
      "outputs": [],
      "source": [
        "import pandas as pd\n",
        "import numpy as np\n",
        "import seaborn as sns\n",
        "import matplotlib\n",
        "import matplotlib.pyplot as plt\n",
        "from statsmodels.graphics.tsaplots import plot_acf, plot_pacf\n",
        "import statsmodels.graphics.tsaplots as sgt\n",
        "from statsmodels.tsa.seasonal import seasonal_decompose\n",
        "import statsmodels.api as sm\n",
        "from scipy.stats.distributions import chi2\n",
        "\n",
        "\n",
        "matplotlib.rcParams['figure.figsize']=[12.0,8.0]\n",
        "import warnings\n",
        "warnings.filterwarnings('ignore')"
      ]
    },
    {
      "cell_type": "code",
      "execution_count": 13,
      "metadata": {
        "id": "OFs6zskcGKiX"
      },
      "outputs": [],
      "source": [
        "import requests\n",
        "import urllib.parse\n",
        "\n",
        "def get_api_call(ids, **kwargs):\n",
        "    API_BASE_URL = \"https://apis.datos.gob.ar/series/api/\"\n",
        "    kwargs[\"ids\"] = \",\".join(ids)\n",
        "    return \"{}{}?{}\".format(API_BASE_URL, \"series\", urllib.parse.urlencode(kwargs))"
      ]
    },
    {
      "cell_type": "code",
      "execution_count": 14,
      "metadata": {
        "colab": {
          "base_uri": "https://localhost:8080/"
        },
        "id": "c8avVfk7GNdw",
        "outputId": "e2f08966-baba-439c-fe25-a75b67a81209"
      },
      "outputs": [
        {
          "name": "stdout",
          "output_type": "stream",
          "text": [
            "https://apis.datos.gob.ar/series/api/series?ids=148.3_INIVELNAL_DICI_M_26\n"
          ]
        }
      ],
      "source": [
        "api_call = get_api_call([\"148.3_INIVELNAL_DICI_M_26\"])\n",
        "print(api_call)\n",
        "\n",
        "# 168.1_T_CAMBIOR_D_0_0_26        ----> otra base a llamar"
      ]
    },
    {
      "cell_type": "code",
      "execution_count": 15,
      "metadata": {
        "colab": {
          "base_uri": "https://localhost:8080/"
        },
        "id": "NRSkgCUfGPvt",
        "outputId": "0ba66c0f-02ed-441f-c02c-a79193092d15"
      },
      "outputs": [
        {
          "name": "stdout",
          "output_type": "stream",
          "text": [
            "{'data': [['2016-12-01', 100.0], ['2017-01-01', 101.5859], ['2017-02-01', 103.6859], ['2017-03-01', 106.1476], ['2017-04-01', 108.9667], ['2017-05-01', 110.5301], ['2017-06-01', 111.8477], ['2017-07-01', 113.7852], ['2017-08-01', 115.3819], ['2017-09-01', 117.5719], ['2017-10-01', 119.3528], ['2017-11-01', 120.994], ['2017-12-01', 124.7956], ['2018-01-01', 126.9887], ['2018-02-01', 130.0606], ['2018-03-01', 133.1054], ['2018-04-01', 136.7512], ['2018-05-01', 139.5893], ['2018-06-01', 144.8053], ['2018-07-01', 149.2966], ['2018-08-01', 155.1034], ['2018-09-01', 165.2383], ['2018-10-01', 174.1473], ['2018-11-01', 179.6388], ['2018-12-01', 184.2552], ['2019-01-01', 189.6101], ['2019-02-01', 196.7501], ['2019-03-01', 205.9571], ['2019-04-01', 212.9596414], ['2019-05-01', 219.5691], ['2019-06-01', 225.537], ['2019-07-01', 230.494], ['2019-08-01', 239.6077], ['2019-09-01', 253.7102], ['2019-10-01', 262.0661], ['2019-11-01', 273.2158], ['2019-12-01', 283.4442], ['2020-01-01', 289.8299], ['2020-02-01', 295.666], ['2020-03-01', 305.5515], ['2020-04-01', 310.1243], ['2020-05-01', 314.9087], ['2020-06-01', 321.9738], ['2020-07-01', 328.2014], ['2020-08-01', 337.0632], ['2020-09-01', 346.6207], ['2020-10-01', 359.657], ['2020-11-01', 371.0211], ['2020-12-01', 385.8826], ['2021-01-01', 401.5071], ['2021-02-01', 415.8595], ['2021-03-01', 435.8657], ['2021-04-01', 453.6503], ['2021-05-01', 468.725], ['2021-06-01', 483.6049], ['2021-07-01', 498.0987], ['2021-08-01', 510.3942], ['2021-09-01', 528.4968], ['2021-10-01', 547.0802], ['2021-11-01', 560.9184], ['2021-12-01', 582.4575], ['2022-01-01', 605.0317], ['2022-02-01', 633.4341], ['2022-03-01', 676.0566], ['2022-04-01', 716.9399], ['2022-05-01', 753.147], ['2022-06-01', 793.0278], ['2022-07-01', 851.761], ['2022-08-01', 911.1316], ['2022-09-01', 967.3076], ['2022-10-01', 1028.706], ['2022-11-01', 1079.2787], ['2022-12-01', 1134.5875], ['2023-01-01', 1202.979], ['2023-02-01', 1282.7091], ['2023-03-01', 1381.1601], ['2023-04-01', 1497.2147], ['2023-05-01', 1613.5895], ['2023-06-01', 1709.6115], ['2023-07-01', 1818.0838], ['2023-08-01', 2044.2832]], 'count': 81, 'meta': [{'frequency': 'month', 'start_date': '2016-12-01', 'end_date': '2023-08-01'}, {'catalog': {'title': 'Datos Programación Macroeconómica'}, 'dataset': {'title': 'Índice de Precios al Consumidor Nacional (IPC). Base diciembre 2016.', 'description': 'Índice de Precios al Consumidor Nacional. Base diciembre 2016.', 'issued': '2017-09-28', 'source': 'Instituto Nacional de Estadística y Censos (INDEC)'}, 'distribution': {'title': 'Índice de Precios al Consumidor, por categorías y regiones. Base diciembre de 2016. Valores mensuales', 'downloadURL': 'https://infra.datos.gob.ar/catalog/sspm/dataset/145/distribution/145.9/download/indice-precios-al-consumidor-apertura-por-categorias-base-diciembre-2016-mensual.csv'}, 'field': {'description': 'IPC. Nivel General Nacional. Base dic 2016. Mensual.', 'id': '148.3_INIVELNAL_DICI_M_26', 'units': 'Índice', 'representation_mode': 'value', 'representation_mode_units': 'Índice'}}], 'params': {'ids': '148.3_INIVELNAL_DICI_M_26', 'identifiers': [{'id': '148.3_INIVELNAL_DICI_M_26', 'distribution': '145.9', 'dataset': '145'}]}}\n"
          ]
        }
      ],
      "source": [
        "result = requests.get(api_call).json()\n",
        "print(result)"
      ]
    },
    {
      "cell_type": "code",
      "execution_count": 16,
      "metadata": {
        "colab": {
          "base_uri": "https://localhost:8080/"
        },
        "id": "-lWeomi3Iqhw",
        "outputId": "0d839265-74cf-4555-abba-30fdeb6087c7"
      },
      "outputs": [
        {
          "name": "stdout",
          "output_type": "stream",
          "text": [
            "[['2016-12-01', 100.0], ['2017-01-01', 101.5859], ['2017-02-01', 103.6859], ['2017-03-01', 106.1476], ['2017-04-01', 108.9667], ['2017-05-01', 110.5301], ['2017-06-01', 111.8477], ['2017-07-01', 113.7852], ['2017-08-01', 115.3819], ['2017-09-01', 117.5719], ['2017-10-01', 119.3528], ['2017-11-01', 120.994], ['2017-12-01', 124.7956], ['2018-01-01', 126.9887], ['2018-02-01', 130.0606], ['2018-03-01', 133.1054], ['2018-04-01', 136.7512], ['2018-05-01', 139.5893], ['2018-06-01', 144.8053], ['2018-07-01', 149.2966], ['2018-08-01', 155.1034], ['2018-09-01', 165.2383], ['2018-10-01', 174.1473], ['2018-11-01', 179.6388], ['2018-12-01', 184.2552], ['2019-01-01', 189.6101], ['2019-02-01', 196.7501], ['2019-03-01', 205.9571], ['2019-04-01', 212.9596414], ['2019-05-01', 219.5691], ['2019-06-01', 225.537], ['2019-07-01', 230.494], ['2019-08-01', 239.6077], ['2019-09-01', 253.7102], ['2019-10-01', 262.0661], ['2019-11-01', 273.2158], ['2019-12-01', 283.4442], ['2020-01-01', 289.8299], ['2020-02-01', 295.666], ['2020-03-01', 305.5515], ['2020-04-01', 310.1243], ['2020-05-01', 314.9087], ['2020-06-01', 321.9738], ['2020-07-01', 328.2014], ['2020-08-01', 337.0632], ['2020-09-01', 346.6207], ['2020-10-01', 359.657], ['2020-11-01', 371.0211], ['2020-12-01', 385.8826], ['2021-01-01', 401.5071], ['2021-02-01', 415.8595], ['2021-03-01', 435.8657], ['2021-04-01', 453.6503], ['2021-05-01', 468.725], ['2021-06-01', 483.6049], ['2021-07-01', 498.0987], ['2021-08-01', 510.3942], ['2021-09-01', 528.4968], ['2021-10-01', 547.0802], ['2021-11-01', 560.9184], ['2021-12-01', 582.4575], ['2022-01-01', 605.0317], ['2022-02-01', 633.4341], ['2022-03-01', 676.0566], ['2022-04-01', 716.9399], ['2022-05-01', 753.147], ['2022-06-01', 793.0278], ['2022-07-01', 851.761], ['2022-08-01', 911.1316], ['2022-09-01', 967.3076], ['2022-10-01', 1028.706], ['2022-11-01', 1079.2787], ['2022-12-01', 1134.5875], ['2023-01-01', 1202.979], ['2023-02-01', 1282.7091], ['2023-03-01', 1381.1601], ['2023-04-01', 1497.2147], ['2023-05-01', 1613.5895], ['2023-06-01', 1709.6115], ['2023-07-01', 1818.0838], ['2023-08-01', 2044.2832]]\n"
          ]
        }
      ],
      "source": [
        "print(result[\"data\"])"
      ]
    },
    {
      "cell_type": "code",
      "execution_count": 17,
      "metadata": {
        "colab": {
          "base_uri": "https://localhost:8080/"
        },
        "id": "rkOBciw_QTsJ",
        "outputId": "b3825dd9-06f3-4605-e273-197480b0cef6"
      },
      "outputs": [
        {
          "name": "stdout",
          "output_type": "stream",
          "text": [
            "   indice_tiempo  ipc_nivel_general_nacional\n",
            "0     2016-12-01                    100.0000\n",
            "1     2017-01-01                    101.5859\n",
            "2     2017-02-01                    103.6859\n",
            "3     2017-03-01                    106.1476\n",
            "4     2017-04-01                    108.9667\n",
            "..           ...                         ...\n",
            "76    2023-04-01                   1497.2147\n",
            "77    2023-05-01                   1613.5895\n",
            "78    2023-06-01                   1709.6115\n",
            "79    2023-07-01                   1818.0838\n",
            "80    2023-08-01                   2044.2832\n",
            "\n",
            "[81 rows x 2 columns]\n"
          ]
        }
      ],
      "source": [
        "# Transformo diccionario en dataframe\n",
        "df = pd.DataFrame.from_dict(result[\"data\"])\n",
        "df.columns = ['indice_tiempo', 'ipc_nivel_general_nacional']\n",
        "print(df)"
      ]
    },
    {
      "cell_type": "code",
      "execution_count": 18,
      "metadata": {
        "id": "F33mUmA5GSlN"
      },
      "outputs": [],
      "source": [
        "# HTTPError: HTTP Error 403: Forbidden\n",
        "# import pandas as pd\n",
        "\n",
        "# df = pd.read_csv(get_api_call(\n",
        "#     [\"148.3_INIVELNAL_DICI_M_26\"],\n",
        "#     format=\"csv\", start_date=2016\n",
        "# ))"
      ]
    },
    {
      "cell_type": "code",
      "execution_count": 19,
      "metadata": {
        "colab": {
          "base_uri": "https://localhost:8080/"
        },
        "id": "kGU2ue37GUdf",
        "outputId": "a3190519-2815-44ef-9fa6-ccbd9106c6e7"
      },
      "outputs": [
        {
          "name": "stdout",
          "output_type": "stream",
          "text": [
            "[0, 1.59, 2.07, 2.37, 2.66, 1.43, 1.19, 1.73, 1.4, 1.9, 1.51, 1.38, 3.14, 1.76, 2.42, 2.34, 2.74, 2.08, 3.74, 3.1, 3.89, 6.53, 5.39, 3.15, 2.57, 2.91, 3.77, 4.68, 3.4, 3.1, 2.72, 2.2, 3.95, 5.89, 3.29, 4.25, 3.74, 2.25, 2.01, 3.34, 1.5, 1.54, 2.24, 1.93, 2.7, 2.84, 3.76, 3.16, 4.01, 4.05, 3.57, 4.81, 4.08, 3.32, 3.17, 3.0, 2.47, 3.55, 3.52, 2.53, 3.84, 3.88, 4.69, 6.73, 6.05, 5.05, 5.3, 7.41, 6.97, 6.17, 6.35, 4.92, 5.12, 6.03, 6.63, 7.68, 8.4, 7.77, 5.95, 6.34, 12.44]\n"
          ]
        },
        {
          "data": {
            "text/plain": [
              "list"
            ]
          },
          "execution_count": 19,
          "metadata": {},
          "output_type": "execute_result"
        }
      ],
      "source": [
        "analisis=[]\n",
        "for fila in range(0, len(df)):\n",
        "  if fila-1<0:\n",
        "    resultado = 0\n",
        "  else:\n",
        "    valor_anterior=df.ipc_nivel_general_nacional[fila-1]\n",
        "    valor_actual=df.ipc_nivel_general_nacional[fila]\n",
        "    resultado = round((( valor_actual / valor_anterior ) - 1 ) * 100,2)\n",
        "  # print(resultado)\n",
        "  analisis.append(resultado)\n",
        "\n",
        "print(analisis)\n",
        "type(analisis)"
      ]
    },
    {
      "cell_type": "code",
      "execution_count": 20,
      "metadata": {
        "id": "DL0cgxF6GWk9"
      },
      "outputs": [],
      "source": [
        "Datos = df.assign(analisis = analisis)"
      ]
    },
    {
      "cell_type": "code",
      "execution_count": 21,
      "metadata": {
        "id": "gZbsxPSvGYj5"
      },
      "outputs": [],
      "source": [
        "Datos.indice_tiempo = pd.to_datetime(Datos.indice_tiempo, dayfirst = True)\n",
        "Datos.set_index(\"indice_tiempo\", inplace=True)"
      ]
    },
    {
      "cell_type": "code",
      "execution_count": 22,
      "metadata": {
        "id": "lMsTyKhjGckA"
      },
      "outputs": [
        {
          "ename": "KeyError",
          "evalue": "\"['2016-12-01'] not found in axis\"",
          "output_type": "error",
          "traceback": [
            "\u001b[1;31m---------------------------------------------------------------------------\u001b[0m",
            "\u001b[1;31mKeyError\u001b[0m                                  Traceback (most recent call last)",
            "\u001b[1;32md:\\Onedrive\\Austral\\Cursos\\14 - Analisis de Series Temporales\\AST\\AST_Clase_2_ejercicio_3.ipynb Cell 12\u001b[0m line \u001b[0;36m1\n\u001b[1;32m----> <a href='vscode-notebook-cell:/d%3A/Onedrive/Austral/Cursos/14%20-%20Analisis%20de%20Series%20Temporales/AST/AST_Clase_2_ejercicio_3.ipynb#X14sZmlsZQ%3D%3D?line=0'>1</a>\u001b[0m Datos\u001b[39m.\u001b[39;49mdrop([\u001b[39m'\u001b[39;49m\u001b[39m2016-12-01\u001b[39;49m\u001b[39m'\u001b[39;49m],inplace\u001b[39m=\u001b[39;49m\u001b[39mTrue\u001b[39;49;00m)\n",
            "File \u001b[1;32m~\\AppData\\Roaming\\Python\\Python311\\site-packages\\pandas\\core\\frame.py:5347\u001b[0m, in \u001b[0;36mDataFrame.drop\u001b[1;34m(self, labels, axis, index, columns, level, inplace, errors)\u001b[0m\n\u001b[0;32m   5199\u001b[0m \u001b[39mdef\u001b[39;00m \u001b[39mdrop\u001b[39m(\n\u001b[0;32m   5200\u001b[0m     \u001b[39mself\u001b[39m,\n\u001b[0;32m   5201\u001b[0m     labels: IndexLabel \u001b[39m|\u001b[39m \u001b[39mNone\u001b[39;00m \u001b[39m=\u001b[39m \u001b[39mNone\u001b[39;00m,\n\u001b[1;32m   (...)\u001b[0m\n\u001b[0;32m   5208\u001b[0m     errors: IgnoreRaise \u001b[39m=\u001b[39m \u001b[39m\"\u001b[39m\u001b[39mraise\u001b[39m\u001b[39m\"\u001b[39m,\n\u001b[0;32m   5209\u001b[0m ) \u001b[39m-\u001b[39m\u001b[39m>\u001b[39m DataFrame \u001b[39m|\u001b[39m \u001b[39mNone\u001b[39;00m:\n\u001b[0;32m   5210\u001b[0m \u001b[39m    \u001b[39m\u001b[39m\"\"\"\u001b[39;00m\n\u001b[0;32m   5211\u001b[0m \u001b[39m    Drop specified labels from rows or columns.\u001b[39;00m\n\u001b[0;32m   5212\u001b[0m \n\u001b[1;32m   (...)\u001b[0m\n\u001b[0;32m   5345\u001b[0m \u001b[39m            weight  1.0     0.8\u001b[39;00m\n\u001b[0;32m   5346\u001b[0m \u001b[39m    \"\"\"\u001b[39;00m\n\u001b[1;32m-> 5347\u001b[0m     \u001b[39mreturn\u001b[39;00m \u001b[39msuper\u001b[39;49m()\u001b[39m.\u001b[39;49mdrop(\n\u001b[0;32m   5348\u001b[0m         labels\u001b[39m=\u001b[39;49mlabels,\n\u001b[0;32m   5349\u001b[0m         axis\u001b[39m=\u001b[39;49maxis,\n\u001b[0;32m   5350\u001b[0m         index\u001b[39m=\u001b[39;49mindex,\n\u001b[0;32m   5351\u001b[0m         columns\u001b[39m=\u001b[39;49mcolumns,\n\u001b[0;32m   5352\u001b[0m         level\u001b[39m=\u001b[39;49mlevel,\n\u001b[0;32m   5353\u001b[0m         inplace\u001b[39m=\u001b[39;49minplace,\n\u001b[0;32m   5354\u001b[0m         errors\u001b[39m=\u001b[39;49merrors,\n\u001b[0;32m   5355\u001b[0m     )\n",
            "File \u001b[1;32m~\\AppData\\Roaming\\Python\\Python311\\site-packages\\pandas\\core\\generic.py:4711\u001b[0m, in \u001b[0;36mNDFrame.drop\u001b[1;34m(self, labels, axis, index, columns, level, inplace, errors)\u001b[0m\n\u001b[0;32m   4709\u001b[0m \u001b[39mfor\u001b[39;00m axis, labels \u001b[39min\u001b[39;00m axes\u001b[39m.\u001b[39mitems():\n\u001b[0;32m   4710\u001b[0m     \u001b[39mif\u001b[39;00m labels \u001b[39mis\u001b[39;00m \u001b[39mnot\u001b[39;00m \u001b[39mNone\u001b[39;00m:\n\u001b[1;32m-> 4711\u001b[0m         obj \u001b[39m=\u001b[39m obj\u001b[39m.\u001b[39;49m_drop_axis(labels, axis, level\u001b[39m=\u001b[39;49mlevel, errors\u001b[39m=\u001b[39;49merrors)\n\u001b[0;32m   4713\u001b[0m \u001b[39mif\u001b[39;00m inplace:\n\u001b[0;32m   4714\u001b[0m     \u001b[39mself\u001b[39m\u001b[39m.\u001b[39m_update_inplace(obj)\n",
            "File \u001b[1;32m~\\AppData\\Roaming\\Python\\Python311\\site-packages\\pandas\\core\\generic.py:4753\u001b[0m, in \u001b[0;36mNDFrame._drop_axis\u001b[1;34m(self, labels, axis, level, errors, only_slice)\u001b[0m\n\u001b[0;32m   4751\u001b[0m         new_axis \u001b[39m=\u001b[39m axis\u001b[39m.\u001b[39mdrop(labels, level\u001b[39m=\u001b[39mlevel, errors\u001b[39m=\u001b[39merrors)\n\u001b[0;32m   4752\u001b[0m     \u001b[39melse\u001b[39;00m:\n\u001b[1;32m-> 4753\u001b[0m         new_axis \u001b[39m=\u001b[39m axis\u001b[39m.\u001b[39;49mdrop(labels, errors\u001b[39m=\u001b[39;49merrors)\n\u001b[0;32m   4754\u001b[0m     indexer \u001b[39m=\u001b[39m axis\u001b[39m.\u001b[39mget_indexer(new_axis)\n\u001b[0;32m   4756\u001b[0m \u001b[39m# Case for non-unique axis\u001b[39;00m\n\u001b[0;32m   4757\u001b[0m \u001b[39melse\u001b[39;00m:\n",
            "File \u001b[1;32m~\\AppData\\Roaming\\Python\\Python311\\site-packages\\pandas\\core\\indexes\\base.py:6992\u001b[0m, in \u001b[0;36mIndex.drop\u001b[1;34m(self, labels, errors)\u001b[0m\n\u001b[0;32m   6990\u001b[0m \u001b[39mif\u001b[39;00m mask\u001b[39m.\u001b[39many():\n\u001b[0;32m   6991\u001b[0m     \u001b[39mif\u001b[39;00m errors \u001b[39m!=\u001b[39m \u001b[39m\"\u001b[39m\u001b[39mignore\u001b[39m\u001b[39m\"\u001b[39m:\n\u001b[1;32m-> 6992\u001b[0m         \u001b[39mraise\u001b[39;00m \u001b[39mKeyError\u001b[39;00m(\u001b[39mf\u001b[39m\u001b[39m\"\u001b[39m\u001b[39m{\u001b[39;00mlabels[mask]\u001b[39m.\u001b[39mtolist()\u001b[39m}\u001b[39;00m\u001b[39m not found in axis\u001b[39m\u001b[39m\"\u001b[39m)\n\u001b[0;32m   6993\u001b[0m     indexer \u001b[39m=\u001b[39m indexer[\u001b[39m~\u001b[39mmask]\n\u001b[0;32m   6994\u001b[0m \u001b[39mreturn\u001b[39;00m \u001b[39mself\u001b[39m\u001b[39m.\u001b[39mdelete(indexer)\n",
            "\u001b[1;31mKeyError\u001b[0m: \"['2016-12-01'] not found in axis\""
          ]
        }
      ],
      "source": [
        "Datos.drop(['2016-12-01'],inplace=True)"
      ]
    },
    {
      "cell_type": "code",
      "execution_count": 23,
      "metadata": {
        "colab": {
          "base_uri": "https://localhost:8080/"
        },
        "id": "xfSJ4pYtGhdM",
        "outputId": "9288578c-42e4-45a6-e1d0-2e37e7de7bf9"
      },
      "outputs": [
        {
          "data": {
            "text/plain": [
              "ipc_nivel_general_nacional    float64\n",
              "analisis                      float64\n",
              "dtype: object"
            ]
          },
          "execution_count": 23,
          "metadata": {},
          "output_type": "execute_result"
        }
      ],
      "source": [
        "Datos.dtypes"
      ]
    },
    {
      "cell_type": "code",
      "execution_count": 24,
      "metadata": {
        "colab": {
          "base_uri": "https://localhost:8080/",
          "height": 238
        },
        "id": "sgjKO0DyGjwP",
        "outputId": "c83d4d9e-bf9f-472f-9065-c2a0d92aac58"
      },
      "outputs": [
        {
          "data": {
            "text/html": [
              "<div>\n",
              "<style scoped>\n",
              "    .dataframe tbody tr th:only-of-type {\n",
              "        vertical-align: middle;\n",
              "    }\n",
              "\n",
              "    .dataframe tbody tr th {\n",
              "        vertical-align: top;\n",
              "    }\n",
              "\n",
              "    .dataframe thead th {\n",
              "        text-align: right;\n",
              "    }\n",
              "</style>\n",
              "<table border=\"1\" class=\"dataframe\">\n",
              "  <thead>\n",
              "    <tr style=\"text-align: right;\">\n",
              "      <th></th>\n",
              "      <th>ipc_nivel_general_nacional</th>\n",
              "      <th>analisis</th>\n",
              "    </tr>\n",
              "    <tr>\n",
              "      <th>indice_tiempo</th>\n",
              "      <th></th>\n",
              "      <th></th>\n",
              "    </tr>\n",
              "  </thead>\n",
              "  <tbody>\n",
              "    <tr>\n",
              "      <th>2023-01-04</th>\n",
              "      <td>1497.2147</td>\n",
              "      <td>8.40</td>\n",
              "    </tr>\n",
              "    <tr>\n",
              "      <th>2023-01-05</th>\n",
              "      <td>1613.5895</td>\n",
              "      <td>7.77</td>\n",
              "    </tr>\n",
              "    <tr>\n",
              "      <th>2023-01-06</th>\n",
              "      <td>1709.6115</td>\n",
              "      <td>5.95</td>\n",
              "    </tr>\n",
              "    <tr>\n",
              "      <th>2023-01-07</th>\n",
              "      <td>1818.0838</td>\n",
              "      <td>6.34</td>\n",
              "    </tr>\n",
              "    <tr>\n",
              "      <th>2023-01-08</th>\n",
              "      <td>2044.2832</td>\n",
              "      <td>12.44</td>\n",
              "    </tr>\n",
              "  </tbody>\n",
              "</table>\n",
              "</div>"
            ],
            "text/plain": [
              "               ipc_nivel_general_nacional  analisis\n",
              "indice_tiempo                                      \n",
              "2023-01-04                      1497.2147      8.40\n",
              "2023-01-05                      1613.5895      7.77\n",
              "2023-01-06                      1709.6115      5.95\n",
              "2023-01-07                      1818.0838      6.34\n",
              "2023-01-08                      2044.2832     12.44"
            ]
          },
          "execution_count": 24,
          "metadata": {},
          "output_type": "execute_result"
        }
      ],
      "source": [
        "Datos.tail()"
      ]
    },
    {
      "cell_type": "markdown",
      "metadata": {
        "id": "6pXlOFg9T28n"
      },
      "source": [
        "VEMOS COMO SE COMPORTA UNA SERIE EXPLOSIVA ="
      ]
    },
    {
      "cell_type": "code",
      "execution_count": 25,
      "metadata": {
        "colab": {
          "base_uri": "https://localhost:8080/",
          "height": 713
        },
        "id": "vSME-WztzOiF",
        "outputId": "eb85fc79-3cb2-47ae-965c-1fe6a174e4fa"
      },
      "outputs": [
        {
          "data": {
            "text/plain": [
              "<Axes: xlabel='indice_tiempo'>"
            ]
          },
          "execution_count": 25,
          "metadata": {},
          "output_type": "execute_result"
        },
        {
          "data": {
            "image/png": "[encoded data removed]",
            "text/plain": [
              "<Figure size 1200x800 with 1 Axes>"
            ]
          },
          "metadata": {},
          "output_type": "display_data"
        }
      ],
      "source": [
        "Datos.ipc_nivel_general_nacional.plot()"
      ]
    },
    {
      "cell_type": "code",
      "execution_count": 26,
      "metadata": {
        "colab": {
          "base_uri": "https://localhost:8080/",
          "height": 1000
        },
        "id": "UNr3_W3B2rym",
        "outputId": "30c89b80-afd2-4f97-adfc-ae431616e2f3"
      },
      "outputs": [
        {
          "data": {
            "image/png": "[encoded data removed]",
            "text/plain": [
              "<Figure size 1200x800 with 1 Axes>"
            ]
          },
          "metadata": {},
          "output_type": "display_data"
        },
        {
          "data": {
            "image/png": "[encoded data removed]",
            "text/plain": [
              "<Figure size 1200x800 with 1 Axes>"
            ]
          },
          "metadata": {},
          "output_type": "display_data"
        }
      ],
      "source": [
        "plot_acf(Datos.ipc_nivel_general_nacional);\n",
        "plot_pacf(Datos.ipc_nivel_general_nacional);"
      ]
    },
    {
      "cell_type": "code",
      "execution_count": 27,
      "metadata": {
        "id": "yHQyk39C3A-l"
      },
      "outputs": [],
      "source": [
        "model = sm.tsa.arima.ARIMA(Datos.ipc_nivel_general_nacional, order=(1,0,0))\n",
        "result = model.fit()"
      ]
    },
    {
      "cell_type": "markdown",
      "metadata": {
        "id": "1dblzZG-T9Ka"
      },
      "source": [
        "AQUI VEMOS LAS RAICES DEL MODELO AR1. QUE SON TENDIENDO A 1. ES DECIR, TIENEN UN COMPRTAMIENTO EXPLOSIVO"
      ]
    },
    {
      "cell_type": "code",
      "execution_count": 28,
      "metadata": {
        "colab": {
          "base_uri": "https://localhost:8080/"
        },
        "id": "F8Bhtq8510j-",
        "outputId": "299ebdd2-01b9-498a-d202-3f6422bfb6e5"
      },
      "outputs": [
        {
          "data": {
            "text/plain": [
              "array([1.00077259])"
            ]
          },
          "execution_count": 28,
          "metadata": {},
          "output_type": "execute_result"
        }
      ],
      "source": [
        "result.arroots"
      ]
    },
    {
      "cell_type": "code",
      "execution_count": 29,
      "metadata": {
        "colab": {
          "base_uri": "https://localhost:8080/"
        },
        "id": "NeHE2-7jUR_4",
        "outputId": "d5aa7e5b-6bc9-489d-d99e-3935f9a766d2"
      },
      "outputs": [
        {
          "data": {
            "text/plain": [
              "array([1.00077259])"
            ]
          },
          "execution_count": 29,
          "metadata": {},
          "output_type": "execute_result"
        }
      ],
      "source": [
        "result.arroots"
      ]
    },
    {
      "cell_type": "markdown",
      "metadata": {
        "id": "YGtpnmHQUDpE"
      },
      "source": [
        "Ahora vamos a analizar teniendo en cuenta el % de variacion mensual. Y le aplicamos un modelo AR(1)"
      ]
    },
    {
      "cell_type": "code",
      "execution_count": 30,
      "metadata": {
        "colab": {
          "base_uri": "https://localhost:8080/",
          "height": 1000
        },
        "id": "03Ij4gxjUXDg",
        "outputId": "6bee74b4-0c3d-4fea-a23b-2781a675c344"
      },
      "outputs": [
        {
          "data": {
            "image/png": "[encoded data removed]",
            "text/plain": [
              "<Figure size 1200x800 with 1 Axes>"
            ]
          },
          "metadata": {},
          "output_type": "display_data"
        },
        {
          "data": {
            "image/png": "[encoded data removed]",
            "text/plain": [
              "<Figure size 1200x800 with 1 Axes>"
            ]
          },
          "metadata": {},
          "output_type": "display_data"
        }
      ],
      "source": [
        "plot_acf(Datos.analisis);\n",
        "plot_pacf(Datos.analisis);"
      ]
    },
    {
      "cell_type": "code",
      "execution_count": 31,
      "metadata": {
        "id": "wpYXMydTUPh8"
      },
      "outputs": [],
      "source": [
        "model = sm.tsa.arima.ARIMA(Datos.analisis, order=(1,0,0))\n",
        "result = model.fit()"
      ]
    },
    {
      "cell_type": "code",
      "execution_count": 32,
      "metadata": {
        "colab": {
          "base_uri": "https://localhost:8080/",
          "height": 417
        },
        "id": "YzFbKlhYMQei",
        "outputId": "b97027af-0630-4faa-f4f2-186ca69dd2f5"
      },
      "outputs": [
        {
          "data": {
            "text/html": [
              "<table class=\"simpletable\">\n",
              "<caption>SARIMAX Results</caption>\n",
              "<tr>\n",
              "  <th>Dep. Variable:</th>       <td>analisis</td>     <th>  No. Observations:  </th>    <td>81</td>   \n",
              "</tr>\n",
              "<tr>\n",
              "  <th>Model:</th>            <td>ARIMA(1, 0, 0)</td>  <th>  Log Likelihood     </th> <td>-132.202</td>\n",
              "</tr>\n",
              "<tr>\n",
              "  <th>Date:</th>            <td>Tue, 10 Oct 2023</td> <th>  AIC                </th>  <td>270.405</td>\n",
              "</tr>\n",
              "<tr>\n",
              "  <th>Time:</th>                <td>23:01:36</td>     <th>  BIC                </th>  <td>277.588</td>\n",
              "</tr>\n",
              "<tr>\n",
              "  <th>Sample:</th>                  <td>0</td>        <th>  HQIC               </th>  <td>273.287</td>\n",
              "</tr>\n",
              "<tr>\n",
              "  <th></th>                       <td> - 81</td>      <th>                     </th>     <td> </td>   \n",
              "</tr>\n",
              "<tr>\n",
              "  <th>Covariance Type:</th>        <td>opg</td>       <th>                     </th>     <td> </td>   \n",
              "</tr>\n",
              "</table>\n",
              "<table class=\"simpletable\">\n",
              "<tr>\n",
              "     <td></td>       <th>coef</th>     <th>std err</th>      <th>z</th>      <th>P>|z|</th>  <th>[0.025</th>    <th>0.975]</th>  \n",
              "</tr>\n",
              "<tr>\n",
              "  <th>const</th>  <td>    4.2642</td> <td>    1.336</td> <td>    3.192</td> <td> 0.001</td> <td>    1.646</td> <td>    6.882</td>\n",
              "</tr>\n",
              "<tr>\n",
              "  <th>ar.L1</th>  <td>    0.9025</td> <td>    0.089</td> <td>   10.141</td> <td> 0.000</td> <td>    0.728</td> <td>    1.077</td>\n",
              "</tr>\n",
              "<tr>\n",
              "  <th>sigma2</th> <td>    1.5002</td> <td>    0.158</td> <td>    9.473</td> <td> 0.000</td> <td>    1.190</td> <td>    1.811</td>\n",
              "</tr>\n",
              "</table>\n",
              "<table class=\"simpletable\">\n",
              "<tr>\n",
              "  <th>Ljung-Box (L1) (Q):</th>     <td>0.38</td> <th>  Jarque-Bera (JB):  </th> <td>182.07</td>\n",
              "</tr>\n",
              "<tr>\n",
              "  <th>Prob(Q):</th>                <td>0.54</td> <th>  Prob(JB):          </th>  <td>0.00</td> \n",
              "</tr>\n",
              "<tr>\n",
              "  <th>Heteroskedasticity (H):</th> <td>2.14</td> <th>  Skew:              </th>  <td>1.56</td> \n",
              "</tr>\n",
              "<tr>\n",
              "  <th>Prob(H) (two-sided):</th>    <td>0.05</td> <th>  Kurtosis:          </th>  <td>9.65</td> \n",
              "</tr>\n",
              "</table><br/><br/>Warnings:<br/>[1] Covariance matrix calculated using the outer product of gradients (complex-step)."
            ],
            "text/latex": [
              "\\begin{center}\n",
              "\\begin{tabular}{lclc}\n",
              "\\toprule\n",
              "\\textbf{Dep. Variable:}          &     analisis     & \\textbf{  No. Observations:  } &     81      \\\\\n",
              "\\textbf{Model:}                  &  ARIMA(1, 0, 0)  & \\textbf{  Log Likelihood     } &  -132.202   \\\\\n",
              "\\textbf{Date:}                   & Tue, 10 Oct 2023 & \\textbf{  AIC                } &  270.405    \\\\\n",
              "\\textbf{Time:}                   &     23:01:36     & \\textbf{  BIC                } &  277.588    \\\\\n",
              "\\textbf{Sample:}                 &        0         & \\textbf{  HQIC               } &  273.287    \\\\\n",
              "\\textbf{}                        &       - 81       & \\textbf{                     } &             \\\\\n",
              "\\textbf{Covariance Type:}        &       opg        & \\textbf{                     } &             \\\\\n",
              "\\bottomrule\n",
              "\\end{tabular}\n",
              "\\begin{tabular}{lcccccc}\n",
              "                & \\textbf{coef} & \\textbf{std err} & \\textbf{z} & \\textbf{P$> |$z$|$} & \\textbf{[0.025} & \\textbf{0.975]}  \\\\\n",
              "\\midrule\n",
              "\\textbf{const}  &       4.2642  &        1.336     &     3.192  &         0.001        &        1.646    &        6.882     \\\\\n",
              "\\textbf{ar.L1}  &       0.9025  &        0.089     &    10.141  &         0.000        &        0.728    &        1.077     \\\\\n",
              "\\textbf{sigma2} &       1.5002  &        0.158     &     9.473  &         0.000        &        1.190    &        1.811     \\\\\n",
              "\\bottomrule\n",
              "\\end{tabular}\n",
              "\\begin{tabular}{lclc}\n",
              "\\textbf{Ljung-Box (L1) (Q):}     & 0.38 & \\textbf{  Jarque-Bera (JB):  } & 182.07  \\\\\n",
              "\\textbf{Prob(Q):}                & 0.54 & \\textbf{  Prob(JB):          } &  0.00   \\\\\n",
              "\\textbf{Heteroskedasticity (H):} & 2.14 & \\textbf{  Skew:              } &  1.56   \\\\\n",
              "\\textbf{Prob(H) (two-sided):}    & 0.05 & \\textbf{  Kurtosis:          } &  9.65   \\\\\n",
              "\\bottomrule\n",
              "\\end{tabular}\n",
              "%\\caption{SARIMAX Results}\n",
              "\\end{center}\n",
              "\n",
              "Warnings: \\newline\n",
              " [1] Covariance matrix calculated using the outer product of gradients (complex-step)."
            ],
            "text/plain": [
              "<class 'statsmodels.iolib.summary.Summary'>\n",
              "\"\"\"\n",
              "                               SARIMAX Results                                \n",
              "==============================================================================\n",
              "Dep. Variable:               analisis   No. Observations:                   81\n",
              "Model:                 ARIMA(1, 0, 0)   Log Likelihood                -132.202\n",
              "Date:                Tue, 10 Oct 2023   AIC                            270.405\n",
              "Time:                        23:01:36   BIC                            277.588\n",
              "Sample:                             0   HQIC                           273.287\n",
              "                                 - 81                                         \n",
              "Covariance Type:                  opg                                         \n",
              "==============================================================================\n",
              "                 coef    std err          z      P>|z|      [0.025      0.975]\n",
              "------------------------------------------------------------------------------\n",
              "const          4.2642      1.336      3.192      0.001       1.646       6.882\n",
              "ar.L1          0.9025      0.089     10.141      0.000       0.728       1.077\n",
              "sigma2         1.5002      0.158      9.473      0.000       1.190       1.811\n",
              "===================================================================================\n",
              "Ljung-Box (L1) (Q):                   0.38   Jarque-Bera (JB):               182.07\n",
              "Prob(Q):                              0.54   Prob(JB):                         0.00\n",
              "Heteroskedasticity (H):               2.14   Skew:                             1.56\n",
              "Prob(H) (two-sided):                  0.05   Kurtosis:                         9.65\n",
              "===================================================================================\n",
              "\n",
              "Warnings:\n",
              "[1] Covariance matrix calculated using the outer product of gradients (complex-step).\n",
              "\"\"\""
            ]
          },
          "execution_count": 32,
          "metadata": {},
          "output_type": "execute_result"
        }
      ],
      "source": [
        "result.summary()"
      ]
    },
    {
      "cell_type": "code",
      "execution_count": 33,
      "metadata": {
        "id": "mj6Z74VB3Lny"
      },
      "outputs": [],
      "source": [
        "# defino diferentes variables para realizar analisis\n",
        "\n",
        "T = result.resid.shape[0]  # número de datos\n",
        "M = 7   # máximo número de rezagos que elijo\n",
        "rezagos = np.arange(1, M+1)\n",
        "alpha = 0.05  # significancia de los test\n"
      ]
    },
    {
      "cell_type": "code",
      "execution_count": 34,
      "metadata": {
        "colab": {
          "base_uri": "https://localhost:8080/"
        },
        "id": "qPYxd6x-tLyW",
        "outputId": "8c319b7f-b645-4e2c-f49e-8bf4fe392678"
      },
      "outputs": [
        {
          "name": "stdout",
          "output_type": "stream",
          "text": [
            "[1 2 3 4 5 6 7]\n"
          ]
        }
      ],
      "source": [
        "print(rezagos)"
      ]
    },
    {
      "cell_type": "code",
      "execution_count": 35,
      "metadata": {
        "colab": {
          "base_uri": "https://localhost:8080/"
        },
        "id": "rCRrGZbV3Ubt",
        "outputId": "5b227832-3415-4513-d566-a7dbe18d92e7"
      },
      "outputs": [
        {
          "data": {
            "text/plain": [
              "array([-0.08023652, -0.19454585,  0.05596448, -0.05305513,  0.03373479,\n",
              "        0.24001847,  0.04045624])"
            ]
          },
          "execution_count": 35,
          "metadata": {},
          "output_type": "execute_result"
        }
      ],
      "source": [
        "rho = sm.tsa.acf(result.resid, fft=True, nlags=M)[1:]\n",
        "rho\n",
        "# Aqui vemos si los numeros son grandes o pequeños.\n",
        "# Si son grandes es evidencia en contra de que los rezagos son ruido blanco ( si son pequeños es una evidencia, a favor del ruido blanco)."
      ]
    },
    {
      "cell_type": "markdown",
      "metadata": {
        "id": "fZOwXrPU1V0A"
      },
      "source": [
        "Calculamos las autocorrelaciones. Esto lo hacemos gracias al modulo \"Time Series Analysis\" / Funcion Autocorrelaciones.\n",
        "Conservamos desde el elemento 1 en adelante"
      ]
    },
    {
      "cell_type": "markdown",
      "metadata": {
        "id": "mO_ysiD1Cxql"
      },
      "source": [
        "Calculamos el estadistico de Box-Pierce para todos los rezagos desde el 1 hasta el 7"
      ]
    },
    {
      "cell_type": "code",
      "execution_count": 36,
      "metadata": {
        "id": "eTQHNxZF15kR"
      },
      "outputs": [],
      "source": [
        "Qstar = T * (rho ** 2).cumsum()"
      ]
    },
    {
      "cell_type": "markdown",
      "metadata": {
        "id": "yWvwTJIUEEQM"
      },
      "source": [
        "Calculamos el estadistico de Ljung-Box"
      ]
    },
    {
      "cell_type": "code",
      "execution_count": 37,
      "metadata": {
        "id": "Jzj4umbm2atb"
      },
      "outputs": [],
      "source": [
        "Q = T * (T+2) * ((rho ** 2)/(T-rezagos)).cumsum()"
      ]
    },
    {
      "cell_type": "markdown",
      "metadata": {
        "id": "Bv8vgsAnEPC9"
      },
      "source": [
        "Calculamos los valores criticos"
      ]
    },
    {
      "cell_type": "code",
      "execution_count": 38,
      "metadata": {
        "id": "8mbNSc_d2hCn"
      },
      "outputs": [],
      "source": [
        "vcrits = np.array([chi2(k).ppf(1-alpha) for k in rezagos])"
      ]
    },
    {
      "cell_type": "markdown",
      "metadata": {
        "id": "PewAUuTuEiKD"
      },
      "source": [
        "# Calculamos la autocorrelacion parcial"
      ]
    },
    {
      "cell_type": "code",
      "execution_count": 39,
      "metadata": {
        "id": "MwtniJLh3086"
      },
      "outputs": [],
      "source": [
        "rhop = sm.tsa.pacf(result.resid, nlags=M, method='ols')[1:]"
      ]
    },
    {
      "cell_type": "code",
      "execution_count": 40,
      "metadata": {
        "colab": {
          "base_uri": "https://localhost:8080/",
          "height": 300
        },
        "id": "LQ7z6AeGJmgD",
        "outputId": "7c287a47-cd9b-4279-a9ef-15f0b23a23e6"
      },
      "outputs": [
        {
          "data": {
            "text/html": [
              "<div>\n",
              "<style scoped>\n",
              "    .dataframe tbody tr th:only-of-type {\n",
              "        vertical-align: middle;\n",
              "    }\n",
              "\n",
              "    .dataframe tbody tr th {\n",
              "        vertical-align: top;\n",
              "    }\n",
              "\n",
              "    .dataframe thead th {\n",
              "        text-align: right;\n",
              "    }\n",
              "</style>\n",
              "<table border=\"1\" class=\"dataframe\">\n",
              "  <thead>\n",
              "    <tr style=\"text-align: right;\">\n",
              "      <th></th>\n",
              "      <th>AC</th>\n",
              "      <th>PAC</th>\n",
              "    </tr>\n",
              "    <tr>\n",
              "      <th>Rezagos</th>\n",
              "      <th></th>\n",
              "      <th></th>\n",
              "    </tr>\n",
              "  </thead>\n",
              "  <tbody>\n",
              "    <tr>\n",
              "      <th>1</th>\n",
              "      <td>-0.0802</td>\n",
              "      <td>-0.1097</td>\n",
              "    </tr>\n",
              "    <tr>\n",
              "      <th>2</th>\n",
              "      <td>-0.1945</td>\n",
              "      <td>-0.2917</td>\n",
              "    </tr>\n",
              "    <tr>\n",
              "      <th>3</th>\n",
              "      <td>0.0560</td>\n",
              "      <td>0.0128</td>\n",
              "    </tr>\n",
              "    <tr>\n",
              "      <th>4</th>\n",
              "      <td>-0.0531</td>\n",
              "      <td>-0.1301</td>\n",
              "    </tr>\n",
              "    <tr>\n",
              "      <th>5</th>\n",
              "      <td>0.0337</td>\n",
              "      <td>0.0576</td>\n",
              "    </tr>\n",
              "    <tr>\n",
              "      <th>6</th>\n",
              "      <td>0.2400</td>\n",
              "      <td>0.3113</td>\n",
              "    </tr>\n",
              "    <tr>\n",
              "      <th>7</th>\n",
              "      <td>0.0405</td>\n",
              "      <td>0.1884</td>\n",
              "    </tr>\n",
              "  </tbody>\n",
              "</table>\n",
              "</div>"
            ],
            "text/plain": [
              "             AC     PAC\n",
              "Rezagos                \n",
              "1       -0.0802 -0.1097\n",
              "2       -0.1945 -0.2917\n",
              "3        0.0560  0.0128\n",
              "4       -0.0531 -0.1301\n",
              "5        0.0337  0.0576\n",
              "6        0.2400  0.3113\n",
              "7        0.0405  0.1884"
            ]
          },
          "execution_count": 40,
          "metadata": {},
          "output_type": "execute_result"
        }
      ],
      "source": [
        "resumen2 = pd.DataFrame({'AC':rho, 'PAC': rhop}, index=rezagos)\n",
        "resumen2.index.name = 'Rezagos'\n",
        "\n",
        "resumen2.round(4)"
      ]
    },
    {
      "cell_type": "code",
      "execution_count": 41,
      "metadata": {
        "colab": {
          "base_uri": "https://localhost:8080/",
          "height": 1000
        },
        "id": "1-Gow1RviUug",
        "outputId": "f2cf745e-b354-4a46-d286-b59e68171b79"
      },
      "outputs": [
        {
          "data": {
            "image/png": "[encoded data removed]",
            "text/plain": [
              "<Figure size 1200x800 with 1 Axes>"
            ]
          },
          "metadata": {},
          "output_type": "display_data"
        },
        {
          "data": {
            "image/png": "[encoded data removed]",
            "text/plain": [
              "<Figure size 1200x800 with 1 Axes>"
            ]
          },
          "metadata": {},
          "output_type": "display_data"
        }
      ],
      "source": [
        "plot_acf(result.resid);\n",
        "plot_pacf(result.resid);"
      ]
    },
    {
      "cell_type": "code",
      "execution_count": 42,
      "metadata": {
        "colab": {
          "base_uri": "https://localhost:8080/",
          "height": 300
        },
        "id": "y5JAfsYL34zO",
        "outputId": "2877175c-c6aa-4725-a25c-5db96c4f767b"
      },
      "outputs": [
        {
          "data": {
            "text/html": [
              "<div>\n",
              "<style scoped>\n",
              "    .dataframe tbody tr th:only-of-type {\n",
              "        vertical-align: middle;\n",
              "    }\n",
              "\n",
              "    .dataframe tbody tr th {\n",
              "        vertical-align: top;\n",
              "    }\n",
              "\n",
              "    .dataframe thead th {\n",
              "        text-align: right;\n",
              "    }\n",
              "</style>\n",
              "<table border=\"1\" class=\"dataframe\">\n",
              "  <thead>\n",
              "    <tr style=\"text-align: right;\">\n",
              "      <th></th>\n",
              "      <th>Box-Pierce</th>\n",
              "      <th>* Ljung-Box</th>\n",
              "      <th>Valores criticos</th>\n",
              "    </tr>\n",
              "    <tr>\n",
              "      <th>Rezagos</th>\n",
              "      <th></th>\n",
              "      <th></th>\n",
              "      <th></th>\n",
              "    </tr>\n",
              "  </thead>\n",
              "  <tbody>\n",
              "    <tr>\n",
              "      <th>1</th>\n",
              "      <td>0.5215</td>\n",
              "      <td>0.5410</td>\n",
              "      <td>3.8415</td>\n",
              "    </tr>\n",
              "    <tr>\n",
              "      <th>2</th>\n",
              "      <td>3.5872</td>\n",
              "      <td>3.7619</td>\n",
              "      <td>5.9915</td>\n",
              "    </tr>\n",
              "    <tr>\n",
              "      <th>3</th>\n",
              "      <td>3.8409</td>\n",
              "      <td>4.0319</td>\n",
              "      <td>7.8147</td>\n",
              "    </tr>\n",
              "    <tr>\n",
              "      <th>4</th>\n",
              "      <td>4.0689</td>\n",
              "      <td>4.2777</td>\n",
              "      <td>9.4877</td>\n",
              "    </tr>\n",
              "    <tr>\n",
              "      <th>5</th>\n",
              "      <td>4.1610</td>\n",
              "      <td>4.3783</td>\n",
              "      <td>11.0705</td>\n",
              "    </tr>\n",
              "    <tr>\n",
              "      <th>6</th>\n",
              "      <td>8.8274</td>\n",
              "      <td>9.5424</td>\n",
              "      <td>12.5916</td>\n",
              "    </tr>\n",
              "    <tr>\n",
              "      <th>7</th>\n",
              "      <td>8.9599</td>\n",
              "      <td>9.6911</td>\n",
              "      <td>14.0671</td>\n",
              "    </tr>\n",
              "  </tbody>\n",
              "</table>\n",
              "</div>"
            ],
            "text/plain": [
              "         Box-Pierce  * Ljung-Box  Valores criticos\n",
              "Rezagos                                           \n",
              "1            0.5215       0.5410            3.8415\n",
              "2            3.5872       3.7619            5.9915\n",
              "3            3.8409       4.0319            7.8147\n",
              "4            4.0689       4.2777            9.4877\n",
              "5            4.1610       4.3783           11.0705\n",
              "6            8.8274       9.5424           12.5916\n",
              "7            8.9599       9.6911           14.0671"
            ]
          },
          "execution_count": 42,
          "metadata": {},
          "output_type": "execute_result"
        }
      ],
      "source": [
        "resumen2 = pd.DataFrame({'Box-Pierce':Qstar, '* Ljung-Box':Q, 'Valores criticos': vcrits}, index=rezagos)\n",
        "resumen2.index.name = 'Rezagos'\n",
        "\n",
        "resumen2.round(4)"
      ]
    },
    {
      "cell_type": "code",
      "execution_count": 43,
      "metadata": {
        "colab": {
          "base_uri": "https://localhost:8080/"
        },
        "id": "8dn00kHqKzgM",
        "outputId": "3185b0bd-2a71-442e-be11-29b27d20ce00"
      },
      "outputs": [
        {
          "data": {
            "text/plain": [
              "0.04736476647860397"
            ]
          },
          "execution_count": 43,
          "metadata": {},
          "output_type": "execute_result"
        }
      ],
      "source": [
        "result.resid.mean()"
      ]
    },
    {
      "cell_type": "code",
      "execution_count": 44,
      "metadata": {
        "colab": {
          "base_uri": "https://localhost:8080/"
        },
        "id": "owfWbJBzK21m",
        "outputId": "aca09507-edf5-4397-c754-b43679827937"
      },
      "outputs": [
        {
          "data": {
            "text/plain": [
              "1.701798368889947"
            ]
          },
          "execution_count": 44,
          "metadata": {},
          "output_type": "execute_result"
        }
      ],
      "source": [
        "result.resid.var()"
      ]
    },
    {
      "cell_type": "markdown",
      "metadata": {
        "id": "0xvNJPhsx42T"
      },
      "source": [
        "GRACIAS POR SU ATENCION ! 💻"
      ]
    }
  ],
  "metadata": {
    "colab": {
      "provenance": []
    },
    "kernelspec": {
      "display_name": "Python 3",
      "name": "python3"
    },
    "language_info": {
      "codemirror_mode": {
        "name": "ipython",
        "version": 3
      },
      "file_extension": ".py",
      "mimetype": "text/x-python",
      "name": "python",
      "nbconvert_exporter": "python",
      "pygments_lexer": "ipython3",
      "version": "3.11.5"
    }
  },
  "nbformat": 4,
  "nbformat_minor": 0
}
