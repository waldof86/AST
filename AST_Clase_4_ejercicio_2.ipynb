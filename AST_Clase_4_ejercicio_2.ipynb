{
  "nbformat": 4,
  "nbformat_minor": 0,
  "metadata": {
    "colab": {
      "provenance": []
    },
    "kernelspec": {
      "name": "python3",
      "display_name": "Python 3"
    },
    "language_info": {
      "name": "python"
    }
  },
  "cells": [
    {
      "cell_type": "markdown",
      "source": [
        "<div class=\"alert alert-block alert-info\">\n",
        "    <h1>Análisis de Series Temporales - 2023</h1>\n",
        "    <h3>Clase 4</h3>\n",
        "    <h5>Ejercicio 2</h5>\n",
        "        <p>Docente: Rodrigo Del Rosso<p>\n",
        "        <p>Asistentes: Sebastián Calcagno y Braian Drago <p>\n",
        "</div>"
      ],
      "metadata": {
        "id": "rjIn9XBe3d5k"
      }
    },
    {
      "cell_type": "code",
      "execution_count": null,
      "metadata": {
        "id": "JCXZqgHa23wo"
      },
      "outputs": [],
      "source": [
        "adsfdfdsf"
      ]
    }
  ]
}