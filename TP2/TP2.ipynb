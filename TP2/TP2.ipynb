{
 "cells": [
  {
   "cell_type": "markdown",
   "metadata": {},
   "source": [
    "# Trabajo Practico 1 - Analisis de Series Temporales"
   ]
  },
  {
   "cell_type": "markdown",
   "metadata": {},
   "source": [
    "## Importacion de Librerias"
   ]
  },
  {
   "cell_type": "code",
   "execution_count": 7,
   "metadata": {},
   "outputs": [],
   "source": [
    "import pandas as pd\n",
    "\n",
    "import numpy as np\n",
    "\n",
    "import math\n",
    "\n",
    "import seaborn as sns\n",
    "\n",
    "import scipy.stats\n",
    "from scipy import stats\n",
    "\n",
    "import pylab\n",
    "\n",
    "import matplotlib.pyplot as plt\n",
    "from matplotlib.collections import PolyCollection\n",
    "\n",
    "import statsmodels.tsa.stattools as tsa\n",
    "import statsmodels.api as sm\n",
    "from statsmodels.graphics.tsaplots import plot_acf, plot_pacf\n",
    "from statsmodels.tsa.stattools import adfuller\n",
    "from statsmodels.tsa.stattools import kpss\n",
    "from statsmodels.tsa.statespace.sarimax import SARIMAX\n",
    "from statsmodels.tsa.stattools import grangercausalitytests\n",
    "\n",
    "from pmdarima.arima.utils import ndiffs\n",
    "from pmdarima import auto_arima\n",
    "\n",
    "from sklearn.metrics import mean_absolute_error, mean_squared_error\n",
    "from arch.unitroot import PhillipsPerron"
   ]
  },
  {
   "cell_type": "code",
   "execution_count": 8,
   "metadata": {},
   "outputs": [],
   "source": [
    "import warnings\n",
    "warnings.filterwarnings(\"ignore\")"
   ]
  },
  {
   "cell_type": "code",
   "execution_count": 9,
   "metadata": {},
   "outputs": [],
   "source": [
    "tema_azul = ['#0000CC','#3366FF','#99CCFF']\n",
    "tema_rojo = ['#CC0000','#FF3333','#FF9999']\n",
    "tema_verde = ['#009900','#33AA33','#55BB55']\n",
    "tema_negro = ['#000000','#333333','#555555']"
   ]
  },
  {
   "cell_type": "markdown",
   "metadata": {},
   "source": [
    "## Definicion de Funciones"
   ]
  },
  {
   "cell_type": "markdown",
   "metadata": {},
   "source": [
    "### Trabajo de Datos"
   ]
  },
  {
   "cell_type": "code",
   "execution_count": 10,
   "metadata": {},
   "outputs": [],
   "source": [
    "def filtrar_serie(serie, start_date, end_date):\n",
    "    serie = serie[(serie.index >= start_date) & (serie.index <= end_date)]\n",
    "    return serie"
   ]
  },
  {
   "cell_type": "markdown",
   "metadata": {},
   "source": [
    "### Graficas"
   ]
  },
  {
   "cell_type": "code",
   "execution_count": 12,
   "metadata": {},
   "outputs": [],
   "source": [
    "def autocov_autocorr(s1,s2, numlag= 20, color = ['#000000','#333333','#555555']):\n",
    "  p1, axes = plt.subplots(3,2,figsize=(14,9), sharex=True, sharey=False )\n",
    "\n",
    "  axes[2,0].set_xlabel('Lags', fontsize=8)\n",
    "  axes[2,1].set_xlabel('Lags', fontsize=8)\n",
    "  \n",
    "  axes[0,0].set_ylabel('FAC', fontsize=8)\n",
    "  axes[1,0].set_ylabel('FACP', fontsize=8)\n",
    "  axes[2,0].set_ylabel('FAS', fontsize=8)\n",
    "\n",
    "  #grafico correlacion\n",
    "  plot_acf(s1, lags=numlag, ax= axes[0,0], color=color[0], label=\"ACF\", vlines_kwargs={\"colors\":color[0]})\n",
    "  axes[0,0].set_title(label = s1.name, fontsize=9)\n",
    "  axes[0,0].tick_params(axis='both', labelsize=7)\n",
    "  for item in axes[0,0].collections:\n",
    "    #change the color of the CI \n",
    "    if type(item)==PolyCollection:\n",
    "        item.set_facecolor('#AAAAAA')\n",
    "\n",
    "  plot_acf(s2, lags=numlag, ax= axes[0,1], color=color[0], label=\"ACF\", vlines_kwargs={\"colors\":color[0]}, title=s2.name)\n",
    "  axes[0,1].set_title(label = s2.name, fontsize=9)\n",
    "  axes[0,1].tick_params(axis='both', labelsize=7)\n",
    "  for item in axes[0,1].collections:\n",
    "    #change the color of the CI \n",
    "    if type(item)==PolyCollection:\n",
    "        item.set_facecolor('#AAAAAA')\n",
    "  \n",
    "  #grafico correlacion parcial\n",
    "  plot_pacf(s1, lags=numlag, ax= axes[1,0], color=color[1], label=\"PACF\", vlines_kwargs={\"colors\":color[1]}, title='', method='ywm')\n",
    "  axes[1,0].tick_params(axis='both', labelsize=7)\n",
    "  for item in axes[1,0].collections:\n",
    "    #change the color of the CI \n",
    "    if type(item)==PolyCollection:\n",
    "        item.set_facecolor('#AAAAAA')\n",
    "\n",
    "  plot_pacf(s2, lags=numlag, ax= axes[1,1], color=color[1], label=\"PACF\", vlines_kwargs={\"colors\":color[2]}, title='', method='ywm')\n",
    "  axes[1,1].tick_params(axis='both', labelsize=7)\n",
    "  for item in axes[1,1].collections:\n",
    "    #change the color of the CI \n",
    "    if type(item)==PolyCollection:\n",
    "        item.set_facecolor('#AAAAAA')\n",
    "\n",
    "\n",
    "  #grafico covarianza\n",
    "  axes[2,0].plot(tsa.acovf(s1,fft=False, nlag=numlag), color=color[2], label='AutoCov')\n",
    "  axes[2,0].tick_params(axis='both', labelsize=7)\n",
    "  axes[2,1].plot(tsa.acovf(s2,fft=False, nlag=numlag), color=color[2], label='AutoCov')\n",
    "  axes[2,1].tick_params(axis='both', labelsize=7)\n",
    "\n",
    "  #p1.legend()\n",
    "  plt.show()\n",
    "#autocov_autocorr(df.ventas_ajustado, df.diff1, 20, tema_rojo)"
   ]
  },
  {
   "cell_type": "code",
   "execution_count": 13,
   "metadata": {},
   "outputs": [],
   "source": [
    "def prueba_residuos(resid, color = ['#000000','#333333','#555555']):\n",
    "    p1, axes = plt.subplots(3,2,figsize=(15,10))\n",
    "    #p1, axes = plt.subplot_mosaic('AB;CD;EF;GG')\n",
    "\n",
    "    plot_acf(resid, ax= axes[0,0], color=color[0], vlines_kwargs={\"colors\":color[0]})\n",
    "    axes[0,0].set_title(label = 'Autocorrelacion', fontsize=10)\n",
    "    axes[0,0].tick_params(axis='both', labelsize=7)\n",
    "    axes[0,0].get_lines()[1].set(markersize = 5.0, markerfacecolor = color[1], markeredgecolor = color[2])\n",
    "    for item in axes[0,0].collections:\n",
    "        #change the color of the CI \n",
    "        if type(item)==PolyCollection:\n",
    "            item.set_facecolor('#AAAAAA')\n",
    "\n",
    "    #plot_pacf(resid, ax= axes[0,1]);\n",
    "    plot_pacf(resid, ax= axes[0,1], color=color[0], vlines_kwargs={\"colors\":color[0]})\n",
    "    axes[0,1].set_title(label = 'Autocorrelacion Parcial', fontsize=10)\n",
    "    axes[0,1].tick_params(axis='both', labelsize=7)\n",
    "    axes[0,1].get_lines()[1].set(markersize = 5.0, markerfacecolor = color[1], markeredgecolor = color[2])\n",
    "    for item in axes[0,1].collections:\n",
    "        #change the color of the CI \n",
    "        if type(item)==PolyCollection:\n",
    "            item.set_facecolor('#AAAAAA')\n",
    "\n",
    "    axes[1,0].plot(resid, color = color[1])\n",
    "    axes[1,0].set_title(\"Residuos del modelo\",size=10)\n",
    "    axes[1,0].tick_params(axis='both', labelsize=7)\n",
    "\n",
    "    sns.distplot(resid,bins=12,color=color[1], ax=axes[1,1])\n",
    "    axes[1,1].set_title(f'Histograma de residuos - Shapiro p-value = {stats.shapiro(resid).pvalue:.4f}',size=10)\n",
    "\n",
    "    scipy.stats.probplot(resid, plot = axes[2,0])\n",
    "    axes[2,0].set_title(\"QQ Plot\", size = 10)\n",
    "    axes[2,0].get_lines()[0].set(markersize = 3.0, markerfacecolor = color[1], markeredgecolor = color[2], color = color[1])\n",
    "    axes[2,0].get_lines()[1].set(color = color[1])\n",
    "    axes[2,0].tick_params(axis='both', labelsize=7)\n",
    "\n",
    "    Incorr_residuos_modelo=sm.stats.acorr_ljungbox(resid, lags=10)\n",
    "    axes[2,1].plot(Incorr_residuos_modelo.lb_pvalue, marker='o', markersize=10, linestyle='--', linewidth=1)\n",
    "    axes[2,1].set_title(\"Grafico de incorrelacion de los residuos del modelo\", size = 10)\n",
    "    axes[2,1].set_ylabel(\"P-valores \")\n",
    "    axes[2,1].get_lines()[0].set(markersize = 10.0, markerfacecolor = color[1], markeredgecolor = color[2], color = color[1])\n",
    "    axes[2,1].tick_params(axis='both', labelsize=7)\n",
    "\n",
    "#prueba_residuos(modelo_sarima.resid, tema_verde)"
   ]
  },
  {
   "cell_type": "code",
   "execution_count": 14,
   "metadata": {},
   "outputs": [],
   "source": [
    "def graficar_pred(train, test, pred, confint, xlabel=\"Fecha\", ylabel=\"ARS$\", color = ['#000000','#333333','#555555']):\n",
    "    p1, axes = plt.subplot_mosaic('AB;CC',figsize=(15,10))\n",
    "\n",
    "    axes['A'].plot(train, color = color[0])\n",
    "    axes['A'].set_xlabel(xlabel)\n",
    "    axes['A'].set_ylabel(ylabel)\n",
    "    axes['A'].set_title('Serie Original')\n",
    "    axes['A'].grid(True, color='0.6', dashes=(5,2,1,2))\n",
    "\n",
    "    axes['B'].plot(confint.iloc[:,1],label=\"\", color='#222222')\n",
    "    axes['B'].plot(confint.iloc[:,0],label=\"\", color='#222222')\n",
    "    axes['B'].plot(test, label=\"Valores Observados\", color = color[0])\n",
    "    axes['B'].plot(pred, label=\"Predicciones\", color = color[2])\n",
    "    axes['B'].fill_between(pred.index, confint.iloc[:,1], confint.iloc[:,0], facecolor=color[2], alpha=0.3)\n",
    "    axes['B'].fill_between(pred.index, pred, test, facecolor=color[1], alpha=0.6)\n",
    "    axes['B'].set_xlabel(xlabel)\n",
    "    axes['B'].set_ylabel(ylabel)\n",
    "    axes['B'].set_title('Predicciones - Intervalo de Confianza')\n",
    "    axes['B'].legend(loc=0)\n",
    "    axes['B'].grid(True, color='0.6', dashes=(5,2,1,2))\n",
    "\n",
    "    axes['C'].plot(train, color = color[0])\n",
    "    axes['C'].plot(test, color = color[1])\n",
    "    axes['C'].plot(pred, color = color[2])\n",
    "    axes['C'].set_xlabel(xlabel)\n",
    "    axes['C'].set_ylabel(ylabel)\n",
    "    axes['C'].set_title('Valores Reales vs Observados')\n",
    "    axes['C'].fill_between(pred.index, pred, test, facecolor=color[1], alpha=0.8)\n",
    "    axes['C'].fill_between(pred.index, confint.iloc[:,1], confint.iloc[:,0], facecolor=color[2], alpha=0.3)\n",
    "    axes['C'].grid(True, color='0.6', dashes=(5,2,1,2))\n",
    "\n",
    "#graficar_pred(train, test[:16], predicciones_sarima.predicted_mean, predicciones_sarima.conf_int(), color = tema_azul)"
   ]
  },
  {
   "cell_type": "markdown",
   "metadata": {},
   "source": [
    "### Tests Estadisticos"
   ]
  },
  {
   "cell_type": "code",
   "execution_count": 15,
   "metadata": {},
   "outputs": [],
   "source": [
    "def print_test_adf(y):\n",
    "  print(\"_\".center(120, '_'))\n",
    "  print(f'Augmented Dickey-Fuller')\n",
    "  print(f'Estadistico ADF\\t\\tp-Valor\\tEstacionaridad\\tModo')\n",
    "  resultado = adfuller(y, regression='c')\n",
    "  print(f'{resultado[0]:.4f} \\t\\t{resultado[1]:.4f} \\t{\"No \" if resultado[1] > 0.05 else \"Si\"}\\t\\tConstante sola')\n",
    "\n",
    "  resultado = adfuller(y, regression='ct')\n",
    "  print(f'{resultado[0]:.4f} \\t\\t{resultado[1]:.4f} \\t{\"No \" if resultado[1] > 0.05 else \"Si\"}\\t\\tConstante y Tendencia Lineal')\n",
    "\n",
    "  resultado = adfuller(y, regression='ctt')\n",
    "  print(f'{resultado[0]:.4f} \\t\\t{resultado[1]:.4f} \\t{\"No \" if resultado[1] > 0.05 else \"Si\"}\\t\\tConstante y Tendencia Lineal y Cuadratica')\n",
    "\n",
    "  resultado = adfuller(y, regression='n')\n",
    "  print(f'{resultado[0]:.4f} \\t\\t{resultado[1]:.4f} \\t{\"No \" if resultado[1] > 0.05 else \"Si\"}\\t\\tSin Contante ni Tendencia')\n",
    "  print(\"_\".center(120, '_'))\n",
    "#print_test_adf(df.ventas_ajustado)\n",
    "#print_test_adf(df.diff1)"
   ]
  },
  {
   "cell_type": "code",
   "execution_count": 16,
   "metadata": {},
   "outputs": [],
   "source": [
    "def Phillips_Perron(series, **k):\n",
    "\n",
    "    params = {'n':'No incluye término independiente ni lineal',\n",
    "              'c':'Con término independiente, Sin término lineal',\n",
    "              'ct':'Incluye ambos términos'\n",
    "              }\n",
    "    print(\"_\".center(120, '_'))\n",
    "    print(f'Phillips-Perron')\n",
    "    print(f'Estadistico PP\\tp-Valor\\t\\tNumLags\\t\\tEstacionaridad\\tnDiffs\\tTipo_Regresion')\n",
    "    for param in params:\n",
    "        pp = PhillipsPerron(series,trend=param, **k)\n",
    "        print(f\"{pp.stat:.2f}\\t\\t{pp.pvalue:.4f}\\t\\t{pp.lags}\\t\\t{'No' if pp.pvalue > 0.05 else 'Si'}\\t\\t{ndiffs(series, test='pp')}\\t{param}-{params.get(param)}\")\n",
    "    print(\"_\".center(120, '_'))\n",
    "\n",
    "#Phillips_Perron(df.ventas_ajustado)\n",
    "#Phillips_Perron(df.diff1)"
   ]
  },
  {
   "cell_type": "code",
   "execution_count": 17,
   "metadata": {},
   "outputs": [],
   "source": [
    "def kpss_test(series, **kw):\n",
    "\n",
    "    params = {'c':'estacionarios alrededor de una constante.',\n",
    "              'ct': 'estacionarios alrededor de una tendencia.'\n",
    "             }\n",
    "    print(\"_\".center(120, '_'))\n",
    "    print(f'KPSS')\n",
    "    print(f'Estad. KPSS\\tp-Valor\\t\\tNumLags\\t\\tEstacionaridad\\tnDiffs\\tTipo_Regresion')\n",
    "    \n",
    "    for param in params:\n",
    "        statistic, p_value, n_lags, critical_values = kpss(series,regression = param, **kw)\n",
    "        print(f\"{statistic:.4f}\\t\\t{p_value:.4f}\\t\\t{n_lags}\\t\\t{'No' if p_value < 0.05 else 'Si'}\\t\\t{ndiffs(series, test='kpss')}\\t{param} - {params.get(param)}\")\n",
    "    print(\"_\".center(120, '_'))\n",
    "#kpss_test(df.ventas_ajustado)"
   ]
  },
  {
   "cell_type": "code",
   "execution_count": 18,
   "metadata": {},
   "outputs": [],
   "source": [
    "def medidas_error(serie_test, serie_pred):\n",
    "    MSE = mean_squared_error(serie_test, serie_pred)\n",
    "    MAE = mean_absolute_error(serie_test, serie_pred)\n",
    "    RMSE = np.sqrt(mean_squared_error(serie_test, serie_pred))\n",
    "    MAPE = np.mean(abs((serie_test-serie_pred)/serie_test))\n",
    "\n",
    "    return MSE, MAE, RMSE, MAPE\n",
    "#evaluar_metricas(test[:16], predicciones_sarima.predicted_mean )"
   ]
  },
  {
   "cell_type": "code",
   "execution_count": 19,
   "metadata": {},
   "outputs": [],
   "source": [
    "def evaluar_metricas(serie_test, serie_pred):\n",
    "    print(f'MSE:\\t{mean_squared_error(serie_test, serie_pred):.0f}')\n",
    "    print(f'MAE:\\t{mean_absolute_error(serie_test, serie_pred):.0f}')\n",
    "    print(f'RMSE:\\t{np.sqrt(mean_squared_error(serie_test, serie_pred)):.0f}')\n",
    "    print(f'MAPE:\\t{round(np.mean(abs((serie_test-serie_pred)/serie_test)),4):.3f}')\n",
    "\n",
    "#evaluar_metricas(test[:16], predicciones_sarima.predicted_mean )"
   ]
  },
  {
   "cell_type": "code",
   "execution_count": 20,
   "metadata": {},
   "outputs": [],
   "source": [
    "def grangers_causation_matrix(data, variables, maxlag, testgr='ssr_chi2test', verbose=False):\n",
    "    df = pd.DataFrame(np.zeros((len(variables), len(variables))), columns=variables, index=variables)\n",
    "    for c in df.columns:\n",
    "        for r in df.index:\n",
    "            test_result = grangercausalitytests(data[[r, c]], maxlag=maxlag, verbose=False)\n",
    "            p_values = [(test_result[i+1][0][testgr][1],i+1) for i in range(maxlag)]\n",
    "            if verbose: print(f'Y = {r}, X = {c}, P Values = {p_values}')\n",
    "            min_p_value = np.min(p_values)\n",
    "            df.loc[r, c] = min_p_value\n",
    "    df.columns = [var + '_x' for var in variables]\n",
    "    df.index = [var + '_y' for var in variables]\n",
    "    return df\n",
    "\n",
    "#grangers_causation_matrix(train2, variables = train2.columns, maxlag=5, verbose=False)"
   ]
  },
  {
   "cell_type": "code",
   "execution_count": 21,
   "metadata": {},
   "outputs": [],
   "source": [
    "def highlight_min(s):\n",
    "    is_min = s == s.min()\n",
    "    return [f'background-color: green' if v else '' for v in is_min]"
   ]
  },
  {
   "cell_type": "code",
   "execution_count": 22,
   "metadata": {},
   "outputs": [],
   "source": [
    "def calcular_errores(test_serie, modelos_alt_nombres, modelos_alt, per = 16):\n",
    "    df_errores = pd.DataFrame()\n",
    "    df_errores['Modelo'] = modelos_alt_nombres\n",
    "    df_errores['Akaike'] = [m.aic for m in modelos_alt]\n",
    "\n",
    "    i, MSE, MAE, RMSE, MAPE = 0, [], [], [], []\n",
    "    for m in modelos_alt:\n",
    "        pred_m = m.get_forecast(per)\n",
    "        m_MSE, m_MAE, m_RMSE, m_MAPE = medidas_error(test_serie[:per], pred_m.predicted_mean )\n",
    "        MSE = np.append(MSE, m_MSE)\n",
    "        MAE = np.append(MAE, m_MAE)\n",
    "        RMSE = np.append(RMSE, m_RMSE)\n",
    "        MAPE = np.append(MAPE, m_MAPE)\n",
    "\n",
    "    df_errores['MSE'] = MSE\n",
    "    df_errores['MAE'] = MAE\n",
    "    df_errores['RMSE'] = RMSE\n",
    "    df_errores['MAPE'] = MAPE\n",
    "    \n",
    "    df_errores.style.apply(highlight_min, subset=['Akaike', 'MSE', 'MAE','RMSE','MAPE'])\\\n",
    "        .format({'Akaike': \"{:.0f}\",'MSE': \"{:.2E}\",'MAE': \"{:.2E}\",'RMSE': \"{:.2E}\",'MAPE': \"{:.0%}\"})\n",
    "    \n",
    "    return df_errores\n",
    "\n",
    "#df_err = calcular_errores(test, modelos_alt_nombres, modelos_alt, 10)\n"
   ]
  },
  {
   "cell_type": "markdown",
   "metadata": {},
   "source": [
    "## Importacion y Trabajo de Datos"
   ]
  },
  {
   "cell_type": "code",
   "execution_count": 38,
   "metadata": {},
   "outputs": [],
   "source": [
    "vent_full = pd.read_excel('.\\Data\\Descarga_VENTAS_POR_LOCALES_NB_050923.xlsx',skiprows=1)\n",
    "# df_vent = vent_full.groupby(by = 'Periodo', sort = True)['Importe'].sum().reset_index()\n",
    "# df_vent.rename(columns={'Periodo': 'mes', 'Importe': 'ventas'}, inplace = True)\n",
    "# df_vent.mes = pd.to_datetime(df_vent.mes, dayfirst = True, format = '%m/%Y')\n",
    "# df_vent = df_vent.sort_values(by = 'mes')\n",
    "# df_vent.set_index('mes', inplace = True)\n",
    "# Drop column: 'Valores'\n",
    "vent_full = vent_full.drop(columns=['Valores'])\n",
    "# Drop column: 'Centro Comercial'\n",
    "vent_full = vent_full.drop(columns=['Centro Comercial'])\n",
    "# Drop column: 'Razón Social'\n",
    "vent_full = vent_full.drop(columns=['Razón Social'])\n",
    "# Drop column: 'Identificacion'\n",
    "vent_full = vent_full.drop(columns=['Identificacion'])\n",
    "# Drop column: 'Contrato'\n",
    "vent_full = vent_full.drop(columns=['Contrato'])\n",
    "# Drop column: 'Estado'\n",
    "vent_full = vent_full.drop(columns=['Estado'])\n",
    "# Drop column: 'Faltan'\n",
    "vent_full = vent_full.drop(columns=['Faltan'])\n",
    "# Drop column: 'Cero'\n",
    "vent_full = vent_full.drop(columns=['Cero'])\n",
    "# Drop column: 'Calculo'\n",
    "vent_full = vent_full.drop(columns=['Calculo'])\n",
    "# Change column type to category for column: 'Nombre Comercial'\n",
    "vent_full = vent_full.astype({'Nombre Comercial': 'category'})\n",
    "# Change column type to category for column: 'Local'\n",
    "vent_full = vent_full.astype({'Local': 'category'})\n",
    "# Change column type to category for column: 'Rubro'\n",
    "vent_full = vent_full.astype({'Rubro': 'category'})\n",
    "# Change column type to datetime64[ns] for column: 'Periodo'\n",
    "vent_full = vent_full.astype({'Periodo': 'datetime64[ns]'})\n",
    "# Change column type to category for column: 'Rubros'\n",
    "vent_full = vent_full.astype({'Rubros': 'category'})"
   ]
  },
  {
   "cell_type": "code",
   "execution_count": 94,
   "metadata": {},
   "outputs": [
    {
     "data": {
      "text/html": [
       "<div>\n",
       "<style scoped>\n",
       "    .dataframe tbody tr th:only-of-type {\n",
       "        vertical-align: middle;\n",
       "    }\n",
       "\n",
       "    .dataframe tbody tr th {\n",
       "        vertical-align: top;\n",
       "    }\n",
       "\n",
       "    .dataframe thead th {\n",
       "        text-align: right;\n",
       "    }\n",
       "</style>\n",
       "<table border=\"1\" class=\"dataframe\">\n",
       "  <thead>\n",
       "    <tr style=\"text-align: right;\">\n",
       "      <th></th>\n",
       "      <th>fecha</th>\n",
       "      <th>ipc</th>\n",
       "      <th>ipc_previo</th>\n",
       "      <th>ipc_intermensual</th>\n",
       "    </tr>\n",
       "  </thead>\n",
       "  <tbody>\n",
       "    <tr>\n",
       "      <th>0</th>\n",
       "      <td>2016-12-01</td>\n",
       "      <td>100.0000</td>\n",
       "      <td>NaN</td>\n",
       "      <td>NaN</td>\n",
       "    </tr>\n",
       "    <tr>\n",
       "      <th>1</th>\n",
       "      <td>2017-01-01</td>\n",
       "      <td>101.5859</td>\n",
       "      <td>100.0000</td>\n",
       "      <td>0.015611</td>\n",
       "    </tr>\n",
       "    <tr>\n",
       "      <th>2</th>\n",
       "      <td>2017-02-01</td>\n",
       "      <td>103.6859</td>\n",
       "      <td>101.5859</td>\n",
       "      <td>0.020253</td>\n",
       "    </tr>\n",
       "    <tr>\n",
       "      <th>3</th>\n",
       "      <td>2017-03-01</td>\n",
       "      <td>106.1476</td>\n",
       "      <td>103.6859</td>\n",
       "      <td>0.023191</td>\n",
       "    </tr>\n",
       "    <tr>\n",
       "      <th>4</th>\n",
       "      <td>2017-04-01</td>\n",
       "      <td>108.9667</td>\n",
       "      <td>106.1476</td>\n",
       "      <td>0.025871</td>\n",
       "    </tr>\n",
       "  </tbody>\n",
       "</table>\n",
       "</div>"
      ],
      "text/plain": [
       "       fecha       ipc  ipc_previo  ipc_intermensual\n",
       "0 2016-12-01  100.0000         NaN               NaN\n",
       "1 2017-01-01  101.5859    100.0000          0.015611\n",
       "2 2017-02-01  103.6859    101.5859          0.020253\n",
       "3 2017-03-01  106.1476    103.6859          0.023191\n",
       "4 2017-04-01  108.9667    106.1476          0.025871"
      ]
     },
     "execution_count": 94,
     "metadata": {},
     "output_type": "execute_result"
    }
   ],
   "source": [
    "df_ipc = pd.read_excel('.\\Data\\Tabla_IPC.xlsx',skiprows=1)\n",
    "df_ipc.rename(columns={'Fecha': 'fecha', 'Indice': 'ipc'}, inplace = True)\n",
    "df_ipc.set_index('fecha', inplace=True)\n",
    "df_ipc['ipc_previo'] = df_ipc['ipc'].shift(1)\n",
    "df_ipc['ipc_intermensual'] = (df_ipc['ipc'] - df_ipc['ipc_previo']) / df_ipc['ipc']\n",
    "df_ipc.reset_index(inplace=True)\n",
    "df_ipc.head()"
   ]
  },
  {
   "cell_type": "code",
   "execution_count": 40,
   "metadata": {},
   "outputs": [
    {
     "data": {
      "text/html": [
       "<div>\n",
       "<style scoped>\n",
       "    .dataframe tbody tr th:only-of-type {\n",
       "        vertical-align: middle;\n",
       "    }\n",
       "\n",
       "    .dataframe tbody tr th {\n",
       "        vertical-align: top;\n",
       "    }\n",
       "\n",
       "    .dataframe thead th {\n",
       "        text-align: right;\n",
       "    }\n",
       "</style>\n",
       "<table border=\"1\" class=\"dataframe\">\n",
       "  <thead>\n",
       "    <tr style=\"text-align: right;\">\n",
       "      <th></th>\n",
       "      <th>ofi</th>\n",
       "      <th>blue</th>\n",
       "    </tr>\n",
       "    <tr>\n",
       "      <th>fecha</th>\n",
       "      <th></th>\n",
       "      <th></th>\n",
       "    </tr>\n",
       "  </thead>\n",
       "  <tbody>\n",
       "    <tr>\n",
       "      <th>2015-01-01</th>\n",
       "      <td>8.55</td>\n",
       "      <td>13.50</td>\n",
       "    </tr>\n",
       "    <tr>\n",
       "      <th>2015-02-01</th>\n",
       "      <td>8.63</td>\n",
       "      <td>12.93</td>\n",
       "    </tr>\n",
       "    <tr>\n",
       "      <th>2015-03-01</th>\n",
       "      <td>8.72</td>\n",
       "      <td>12.52</td>\n",
       "    </tr>\n",
       "    <tr>\n",
       "      <th>2015-04-01</th>\n",
       "      <td>8.81</td>\n",
       "      <td>12.60</td>\n",
       "    </tr>\n",
       "    <tr>\n",
       "      <th>2015-05-01</th>\n",
       "      <td>8.90</td>\n",
       "      <td>12.55</td>\n",
       "    </tr>\n",
       "  </tbody>\n",
       "</table>\n",
       "</div>"
      ],
      "text/plain": [
       "             ofi   blue\n",
       "fecha                  \n",
       "2015-01-01  8.55  13.50\n",
       "2015-02-01  8.63  12.93\n",
       "2015-03-01  8.72  12.52\n",
       "2015-04-01  8.81  12.60\n",
       "2015-05-01  8.90  12.55"
      ]
     },
     "execution_count": 40,
     "metadata": {},
     "output_type": "execute_result"
    }
   ],
   "source": [
    "df_usd = pd.read_excel('.\\Data\\Dolar_Evolución.xlsx',skiprows=0)\n",
    "df_usd = df_usd.iloc[:, 1:]\n",
    "df_usd.columns = ['fecha', 'ofi', 'blue']\n",
    "df_usd.set_index('fecha', inplace=True)\n",
    "df_usd.head()"
   ]
  },
  {
   "cell_type": "code",
   "execution_count": 183,
   "metadata": {},
   "outputs": [],
   "source": [
    "df_clima = pd.read_excel('.\\Data\\Clima.xlsx',skiprows=0)"
   ]
  },
  {
   "cell_type": "markdown",
   "metadata": {},
   "source": [
    "Proceso de datos"
   ]
  },
  {
   "cell_type": "code",
   "execution_count": 170,
   "metadata": {},
   "outputs": [],
   "source": [
    "df_vent = vent_full\n",
    "df_vent = pd.merge(df_vent, df_ipc, left_on = 'Periodo', right_on= 'fecha' , how='outer')\n",
    "df_vent = pd.merge(df_vent, df_usd, left_on = 'Periodo', right_on= 'fecha' , how='left')\n",
    "df_vent.dropna(subset=['ipc'], inplace=True)\n",
    "df_vent.dropna(subset=['blue'], inplace=True)\n",
    "df_vent['ventas_ajustado'] = df_vent['Importe'] / (1 + df_vent['ipc_intermensual']) / df_vent['blue']"
   ]
  },
  {
   "cell_type": "code",
   "execution_count": 171,
   "metadata": {},
   "outputs": [],
   "source": [
    "df_vent = df_vent.sort_values(by = ['Nombre Comercial', 'Periodo'])\n",
    "\n",
    "for i in range(12):\n",
    "    df_vent[f'lag{i+1}'] = df_vent.groupby(['Nombre Comercial'])['ventas_ajustado'].shift(periods=i+1)\n",
    "\n",
    "df_vent['diff1'] = df_vent.groupby(['Nombre Comercial'])['ventas_ajustado'].diff()"
   ]
  },
  {
   "cell_type": "code",
   "execution_count": 178,
   "metadata": {},
   "outputs": [],
   "source": [
    "df_vent['quarter'] = df_vent['Periodo'].dt.quarter\n",
    "df_vent['month'] = df_vent['Periodo'].dt.month\n",
    "df_vent['year'] = df_vent['Periodo'].dt.year"
   ]
  },
  {
   "cell_type": "code",
   "execution_count": 189,
   "metadata": {},
   "outputs": [],
   "source": [
    "df_vent = pd.merge(df_vent, df_clima, left_on='Periodo', right_on='fecha', how='left')"
   ]
  }
 ],
 "metadata": {
  "kernelspec": {
   "display_name": "Python 3",
   "language": "python",
   "name": "python3"
  },
  "language_info": {
   "codemirror_mode": {
    "name": "ipython",
    "version": 3
   },
   "file_extension": ".py",
   "mimetype": "text/x-python",
   "name": "python",
   "nbconvert_exporter": "python",
   "pygments_lexer": "ipython3",
   "version": "3.11.5"
  }
 },
 "nbformat": 4,
 "nbformat_minor": 2
}
