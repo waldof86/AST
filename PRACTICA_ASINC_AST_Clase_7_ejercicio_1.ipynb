{
  "nbformat": 4,
  "nbformat_minor": 0,
  "metadata": {
    "colab": {
      "provenance": []
    },
    "kernelspec": {
      "name": "python3",
      "display_name": "Python 3"
    },
    "language_info": {
      "name": "python"
    }
  },
  "cells": [
    {
      "cell_type": "markdown",
      "source": [
        "<div class=\"alert alert-block alert-info\">\n",
        "    <h1>Análisis de Series Temporales</h1>\n",
        "    <h3>Clase 7 - Modelo de Ensambles</h3>\n",
        "    <h3>Ejercicio 1_Asincronico</h3>\n",
        "        <p>Docente: Rodrigo Del Rosso<p>\n",
        "        <p>Asistentes: Sebastián Calcagno, Drago Braian <p>\n",
        "</div>"
      ],
      "metadata": {
        "id": "nfrhojGVCOgb"
      }
    },
    {
      "cell_type": "markdown",
      "source": [
        "**Tareas a realizar:**  \n",
        "\n",
        "1- Explicar la diferencia entre Cross Validation y time_series Cross validation. Que es lo que hace especial a las series de tiempo que requiere esta consideración?\n",
        "\n",
        "2- Repasando el script sincrónico número 1 visto en clases. Cómo mejoraría el modelo? (Hiperparámetros de LGBM)  \n",
        "\n",
        "3- Cual es la diferencia principal entre LighGBM y Xgboost?"
      ],
      "metadata": {
        "id": "BV6QavvzW1bv"
      }
    },
    {
      "cell_type": "code",
      "source": [],
      "metadata": {
        "id": "5_BYnG4QISk0"
      },
      "execution_count": null,
      "outputs": []
    }
  ]
}