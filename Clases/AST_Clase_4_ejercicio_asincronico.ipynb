{
  "nbformat": 4,
  "nbformat_minor": 0,
  "metadata": {
    "colab": {
      "provenance": [],
      "toc_visible": true
    },
    "kernelspec": {
      "name": "python3",
      "display_name": "Python 3"
    },
    "language_info": {
      "name": "python"
    }
  },
  "cells": [
    {
      "cell_type": "markdown",
      "source": [
        "<div class=\"alert alert-block alert-info\">\n",
        "    <h1>Análisis de Series Temporales - 2023</h1>\n",
        "    <h3>Clase 4</h3>\n",
        "    <h5>Ejercitacion asincronica</h5>\n",
        "        <p>Docente: Rodrigo Del Rosso<p>\n",
        "        <p>Asistentes: Sebastián Calcagno y Braian Drago <p>\n",
        "</div>"
      ],
      "metadata": {
        "id": "KEAUugDV25y8"
      }
    },
    {
      "cell_type": "markdown",
      "source": [
        "*La actividad de hoy se divide en dos secciones distintas. La primera sección consta de varias preguntas que deben responderse. En la segunda sección, encontrará dos ejercicios específicos que servirán como base para futuras aplicaciones. Es importante destacar que en la segunda sección existe un ejercicio opcional.*\n",
        "\n",
        "\n",
        "*Recuerdo que la bibliografia consta de los siguientese autores =*\n",
        "*1- Enders. Applied Econometric Time Series. Fourth Edition. Wiley Series.*\n",
        "*2- Hyndman. Forecasting: Principles and Practice. Second Edition. Monash*\n",
        "*University, Australia.*\n",
        "*3- Uriel. Análisis de Series Temporales.*\n",
        "*4- Peña. Análisis de Series Temporales. Alianza Editorial.*"
      ],
      "metadata": {
        "id": "Um_aVkfLFZDo"
      }
    },
    {
      "cell_type": "markdown",
      "source": [
        "# # Primera Seccion - Conteste las siguientes preguntas"
      ],
      "metadata": {
        "id": "svaOUE8TFjgP"
      }
    },
    {
      "cell_type": "markdown",
      "source": [
        "- Pregunta 1 = ¿Qué es la estacionariedad en una serie temporal y por qué es importante en el análisis de datos temporales?"
      ],
      "metadata": {
        "id": "McW6lI7uFnfT"
      }
    },
    {
      "cell_type": "code",
      "execution_count": null,
      "metadata": {
        "id": "aRAEr6-w20hJ"
      },
      "outputs": [],
      "source": [
        "''' ESCRIBA AQUI SU RESPUESTA 1=\n",
        "\n",
        "\n",
        "\n",
        "\n",
        "\n",
        "\n",
        "\n",
        "\n",
        "\n",
        "\n",
        "\n",
        "\n",
        "\n",
        "'''"
      ]
    },
    {
      "cell_type": "markdown",
      "source": [
        "- Pregunta 2 = ¿Cómo funciona el test de Dickey-Fuller y cuál es su objetivo principal en el análisis de series temporales?"
      ],
      "metadata": {
        "id": "macQqHOLF5BN"
      }
    },
    {
      "cell_type": "code",
      "source": [
        "''' ESCRIBA AQUI SU RESPUESTA 2=\n",
        "\n",
        "\n",
        "\n",
        "\n",
        "\n",
        "\n",
        "\n",
        "\n",
        "\n",
        "\n",
        "\n",
        "\n",
        "\n",
        "'''"
      ],
      "metadata": {
        "id": "w-bki4PVF9ev"
      },
      "execution_count": null,
      "outputs": []
    },
    {
      "cell_type": "markdown",
      "source": [
        "- Pregunta 3 = ¿Cuáles son algunas de las limitaciones o suposiciones clave del test de Dickey-Fuller que los analistas deben tener en cuenta al aplicarlo a sus datos?"
      ],
      "metadata": {
        "id": "VfH8zg31F9px"
      }
    },
    {
      "cell_type": "code",
      "source": [
        "''' ESCRIBA AQUI SU RESPUESTA 3=\n",
        "\n",
        "\n",
        "\n",
        "\n",
        "\n",
        "\n",
        "\n",
        "\n",
        "\n",
        "\n",
        "\n",
        "\n",
        "\n",
        "'''"
      ],
      "metadata": {
        "id": "5E9whBINGBBQ"
      },
      "execution_count": null,
      "outputs": []
    },
    {
      "cell_type": "markdown",
      "source": [
        "# Segunda Seccion - Ejercicio teorico-practico. <br>\n",
        "Tema = Raices unitarias - Test de estacionariedad"
      ],
      "metadata": {
        "id": "0M0-bicFGBrR"
      }
    },
    {
      "cell_type": "code",
      "source": [
        "# Importe la serie temporal de su elección y realice una prueba de raíz unitaria en la serie original. Posteriormente, proporcione una interpretación de los resultados obtenidos.\n",
        "# Completar con codigo a continuacion =\n",
        "\n",
        "\n",
        "\n",
        "\n",
        "\n",
        "\n",
        "\n",
        "\n",
        "\n",
        "\n",
        "\n",
        "\n",
        "\n",
        "\n"
      ],
      "metadata": {
        "id": "SmbJ_73xG0rt"
      },
      "execution_count": null,
      "outputs": []
    },
    {
      "cell_type": "markdown",
      "source": [
        "Ejercicio opcional ="
      ],
      "metadata": {
        "id": "_jl_GAGxHO34"
      }
    },
    {
      "cell_type": "code",
      "source": [
        "# En caso de que su serie no presente estacionariedad, le recomiendo aplicar una transformación apropiada y luego realizar un nuevo análisis de la serie transformada.\n",
        "# Una vez completado este proceso, asegúrese de aplicar la inversa de la transformación seleccionada para restaurar la serie a su forma original.\n",
        "# Completar con codigo a continuacion =\n",
        "\n",
        "\n",
        "\n",
        "\n",
        "\n",
        "\n"
      ],
      "metadata": {
        "id": "GqVaM6xXHQUP"
      },
      "execution_count": null,
      "outputs": []
    },
    {
      "cell_type": "markdown",
      "source": [
        "Fin del ejercicio Asincronico 4"
      ],
      "metadata": {
        "id": "-BtpI7BWJSfD"
      }
    }
  ]
}