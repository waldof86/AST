{
  "nbformat": 4,
  "nbformat_minor": 0,
  "metadata": {
    "colab": {
      "provenance": []
    },
    "kernelspec": {
      "name": "python3",
      "display_name": "Python 3"
    },
    "language_info": {
      "name": "python"
    }
  },
  "cells": [
    {
      "cell_type": "markdown",
      "source": [
        "<div class=\"alert alert-block alert-info\">\n",
        "    <h1>Análisis de Series Temporales - 2023</h1>\n",
        "    <h3>Clase 2</h3>\n",
        "    <h5>Ejercicio 3</h5>\n",
        "        <p>Docente: Rodrigo Del Rosso<p>\n",
        "        <p>Asistentes: Sebastián Calcagno y Braian Drago <p>\n",
        "</div>"
      ],
      "metadata": {
        "id": "jIlvt2BuyxW9"
      }
    },
    {
      "cell_type": "code",
      "source": [
        "import pandas as pd\n",
        "import numpy as np\n",
        "import seaborn as sns\n",
        "import matplotlib\n",
        "import matplotlib.pyplot as plt\n",
        "from statsmodels.graphics.tsaplots import plot_acf, plot_pacf\n",
        "import statsmodels.graphics.tsaplots as sgt\n",
        "from statsmodels.tsa.seasonal import seasonal_decompose\n",
        "import statsmodels.api as sm\n",
        "from scipy.stats.distributions import chi2\n",
        "\n",
        "\n",
        "matplotlib.rcParams['figure.figsize']=[12.0,8.0]\n",
        "import warnings\n",
        "warnings.filterwarnings('ignore')"
      ],
      "metadata": {
        "id": "pZx6zSvtyxtH"
      },
      "execution_count": null,
      "outputs": []
    },
    {
      "cell_type": "code",
      "source": [
        "import requests\n",
        "import urllib.parse\n",
        "\n",
        "def get_api_call(ids, **kwargs):\n",
        "    API_BASE_URL = \"https://apis.datos.gob.ar/series/api/\"\n",
        "    kwargs[\"ids\"] = \",\".join(ids)\n",
        "    return \"{}{}?{}\".format(API_BASE_URL, \"series\", urllib.parse.urlencode(kwargs))"
      ],
      "metadata": {
        "id": "OFs6zskcGKiX"
      },
      "execution_count": null,
      "outputs": []
    },
    {
      "cell_type": "code",
      "source": [
        "api_call = get_api_call([\"148.3_INIVELNAL_DICI_M_26\"])\n",
        "print(api_call)\n",
        "\n",
        "# 168.1_T_CAMBIOR_D_0_0_26        ----> otra base a llamar"
      ],
      "metadata": {
        "colab": {
          "base_uri": "https://localhost:8080/"
        },
        "id": "c8avVfk7GNdw",
        "outputId": "e2f08966-baba-439c-fe25-a75b67a81209"
      },
      "execution_count": null,
      "outputs": [
        {
          "output_type": "stream",
          "name": "stdout",
          "text": [
            "https://apis.datos.gob.ar/series/api/series?ids=148.3_INIVELNAL_DICI_M_26\n"
          ]
        }
      ]
    },
    {
      "cell_type": "code",
      "source": [
        "result = requests.get(api_call).json()\n",
        "print(result)"
      ],
      "metadata": {
        "colab": {
          "base_uri": "https://localhost:8080/"
        },
        "id": "NRSkgCUfGPvt",
        "outputId": "0ba66c0f-02ed-441f-c02c-a79193092d15"
      },
      "execution_count": null,
      "outputs": [
        {
          "output_type": "stream",
          "name": "stdout",
          "text": [
            "{'data': [['2016-12-01', 100.0], ['2017-01-01', 101.5859], ['2017-02-01', 103.6859], ['2017-03-01', 106.1476], ['2017-04-01', 108.9667], ['2017-05-01', 110.5301], ['2017-06-01', 111.8477], ['2017-07-01', 113.7852], ['2017-08-01', 115.3819], ['2017-09-01', 117.5719], ['2017-10-01', 119.3528], ['2017-11-01', 120.994], ['2017-12-01', 124.7956], ['2018-01-01', 126.9887], ['2018-02-01', 130.0606], ['2018-03-01', 133.1054], ['2018-04-01', 136.7512], ['2018-05-01', 139.5893], ['2018-06-01', 144.8053], ['2018-07-01', 149.2966], ['2018-08-01', 155.1034], ['2018-09-01', 165.2383], ['2018-10-01', 174.1473], ['2018-11-01', 179.6388], ['2018-12-01', 184.2552], ['2019-01-01', 189.6101], ['2019-02-01', 196.7501], ['2019-03-01', 205.9571], ['2019-04-01', 212.9596414], ['2019-05-01', 219.5691], ['2019-06-01', 225.537], ['2019-07-01', 230.494], ['2019-08-01', 239.6077], ['2019-09-01', 253.7102], ['2019-10-01', 262.0661], ['2019-11-01', 273.2158], ['2019-12-01', 283.4442], ['2020-01-01', 289.8299], ['2020-02-01', 295.666], ['2020-03-01', 305.5515], ['2020-04-01', 310.1243], ['2020-05-01', 314.9087], ['2020-06-01', 321.9738], ['2020-07-01', 328.2014], ['2020-08-01', 337.0632], ['2020-09-01', 346.6207], ['2020-10-01', 359.657], ['2020-11-01', 371.0211], ['2020-12-01', 385.8826], ['2021-01-01', 401.5071], ['2021-02-01', 415.8595], ['2021-03-01', 435.8657], ['2021-04-01', 453.6503], ['2021-05-01', 468.725], ['2021-06-01', 483.6049], ['2021-07-01', 498.0987], ['2021-08-01', 510.3942], ['2021-09-01', 528.4968], ['2021-10-01', 547.0802], ['2021-11-01', 560.9184], ['2021-12-01', 582.4575], ['2022-01-01', 605.0317], ['2022-02-01', 633.4341], ['2022-03-01', 676.0566], ['2022-04-01', 716.9399], ['2022-05-01', 753.147], ['2022-06-01', 793.0278], ['2022-07-01', 851.761], ['2022-08-01', 911.1316], ['2022-09-01', 967.3076], ['2022-10-01', 1028.706], ['2022-11-01', 1079.2787], ['2022-12-01', 1134.5875], ['2023-01-01', 1202.979], ['2023-02-01', 1282.7091], ['2023-03-01', 1381.1601], ['2023-04-01', 1497.2147], ['2023-05-01', 1613.5895], ['2023-06-01', 1709.6115], ['2023-07-01', 1818.0838]], 'count': 80, 'meta': [{'frequency': 'month', 'start_date': '2016-12-01', 'end_date': '2023-07-01'}, {'catalog': {'title': 'Datos Programación Macroeconómica'}, 'dataset': {'title': 'Índice de Precios al Consumidor Nacional (IPC). Base diciembre 2016.', 'description': 'Índice de Precios al Consumidor Nacional. Base diciembre 2016.', 'issued': '2017-09-28', 'source': 'Instituto Nacional de Estadística y Censos (INDEC)'}, 'distribution': {'title': 'Índice de Precios al Consumidor, por categorías y regiones. Base diciembre de 2016. Valores mensuales', 'downloadURL': 'https://infra.datos.gob.ar/catalog/sspm/dataset/145/distribution/145.9/download/indice-precios-al-consumidor-apertura-por-categorias-base-diciembre-2016-mensual.csv'}, 'field': {'description': 'IPC. Nivel General Nacional. Base dic 2016. Mensual.', 'id': '148.3_INIVELNAL_DICI_M_26', 'units': 'Índice', 'representation_mode': 'value', 'representation_mode_units': 'Índice'}}], 'params': {'ids': '148.3_INIVELNAL_DICI_M_26', 'identifiers': [{'id': '148.3_INIVELNAL_DICI_M_26', 'distribution': '145.9', 'dataset': '145'}]}}\n"
          ]
        }
      ]
    },
    {
      "cell_type": "code",
      "source": [
        "print(result[\"data\"])"
      ],
      "metadata": {
        "colab": {
          "base_uri": "https://localhost:8080/"
        },
        "id": "-lWeomi3Iqhw",
        "outputId": "0d839265-74cf-4555-abba-30fdeb6087c7"
      },
      "execution_count": null,
      "outputs": [
        {
          "output_type": "stream",
          "name": "stdout",
          "text": [
            "[['2016-12-01', 100.0], ['2017-01-01', 101.5859], ['2017-02-01', 103.6859], ['2017-03-01', 106.1476], ['2017-04-01', 108.9667], ['2017-05-01', 110.5301], ['2017-06-01', 111.8477], ['2017-07-01', 113.7852], ['2017-08-01', 115.3819], ['2017-09-01', 117.5719], ['2017-10-01', 119.3528], ['2017-11-01', 120.994], ['2017-12-01', 124.7956], ['2018-01-01', 126.9887], ['2018-02-01', 130.0606], ['2018-03-01', 133.1054], ['2018-04-01', 136.7512], ['2018-05-01', 139.5893], ['2018-06-01', 144.8053], ['2018-07-01', 149.2966], ['2018-08-01', 155.1034], ['2018-09-01', 165.2383], ['2018-10-01', 174.1473], ['2018-11-01', 179.6388], ['2018-12-01', 184.2552], ['2019-01-01', 189.6101], ['2019-02-01', 196.7501], ['2019-03-01', 205.9571], ['2019-04-01', 212.9596414], ['2019-05-01', 219.5691], ['2019-06-01', 225.537], ['2019-07-01', 230.494], ['2019-08-01', 239.6077], ['2019-09-01', 253.7102], ['2019-10-01', 262.0661], ['2019-11-01', 273.2158], ['2019-12-01', 283.4442], ['2020-01-01', 289.8299], ['2020-02-01', 295.666], ['2020-03-01', 305.5515], ['2020-04-01', 310.1243], ['2020-05-01', 314.9087], ['2020-06-01', 321.9738], ['2020-07-01', 328.2014], ['2020-08-01', 337.0632], ['2020-09-01', 346.6207], ['2020-10-01', 359.657], ['2020-11-01', 371.0211], ['2020-12-01', 385.8826], ['2021-01-01', 401.5071], ['2021-02-01', 415.8595], ['2021-03-01', 435.8657], ['2021-04-01', 453.6503], ['2021-05-01', 468.725], ['2021-06-01', 483.6049], ['2021-07-01', 498.0987], ['2021-08-01', 510.3942], ['2021-09-01', 528.4968], ['2021-10-01', 547.0802], ['2021-11-01', 560.9184], ['2021-12-01', 582.4575], ['2022-01-01', 605.0317], ['2022-02-01', 633.4341], ['2022-03-01', 676.0566], ['2022-04-01', 716.9399], ['2022-05-01', 753.147], ['2022-06-01', 793.0278], ['2022-07-01', 851.761], ['2022-08-01', 911.1316], ['2022-09-01', 967.3076], ['2022-10-01', 1028.706], ['2022-11-01', 1079.2787], ['2022-12-01', 1134.5875], ['2023-01-01', 1202.979], ['2023-02-01', 1282.7091], ['2023-03-01', 1381.1601], ['2023-04-01', 1497.2147], ['2023-05-01', 1613.5895], ['2023-06-01', 1709.6115], ['2023-07-01', 1818.0838]]\n"
          ]
        }
      ]
    },
    {
      "cell_type": "code",
      "source": [
        "# Transformo diccionario en dataframe\n",
        "df = pd.DataFrame.from_dict(result[\"data\"])\n",
        "df.columns = ['indice_tiempo', 'ipc_nivel_general_nacional']\n",
        "print(df)"
      ],
      "metadata": {
        "colab": {
          "base_uri": "https://localhost:8080/"
        },
        "id": "rkOBciw_QTsJ",
        "outputId": "b3825dd9-06f3-4605-e273-197480b0cef6"
      },
      "execution_count": null,
      "outputs": [
        {
          "output_type": "stream",
          "name": "stdout",
          "text": [
            "             0          1\n",
            "0   2016-12-01   100.0000\n",
            "1   2017-01-01   101.5859\n",
            "2   2017-02-01   103.6859\n",
            "3   2017-03-01   106.1476\n",
            "4   2017-04-01   108.9667\n",
            "..         ...        ...\n",
            "75  2023-03-01  1381.1601\n",
            "76  2023-04-01  1497.2147\n",
            "77  2023-05-01  1613.5895\n",
            "78  2023-06-01  1709.6115\n",
            "79  2023-07-01  1818.0838\n",
            "\n",
            "[80 rows x 2 columns]\n"
          ]
        }
      ]
    },
    {
      "cell_type": "code",
      "source": [
        "# HTTPError: HTTP Error 403: Forbidden\n",
        "# import pandas as pd\n",
        "\n",
        "# df = pd.read_csv(get_api_call(\n",
        "#     [\"148.3_INIVELNAL_DICI_M_26\"],\n",
        "#     format=\"csv\", start_date=2016\n",
        "# ))"
      ],
      "metadata": {
        "id": "F33mUmA5GSlN"
      },
      "execution_count": null,
      "outputs": []
    },
    {
      "cell_type": "code",
      "source": [
        "analisis=[]\n",
        "for fila in range(0, len(df)):\n",
        "  if fila-1<0:\n",
        "    resultado = 0\n",
        "  else:\n",
        "    valor_anterior=df.ipc_nivel_general_nacional[fila-1]\n",
        "    valor_actual=df.ipc_nivel_general_nacional[fila]\n",
        "    resultado = round((( valor_actual / valor_anterior ) - 1 ) * 100,2)\n",
        "  # print(resultado)\n",
        "  analisis.append(resultado)\n",
        "\n",
        "print(analisis)\n",
        "type(analisis)"
      ],
      "metadata": {
        "colab": {
          "base_uri": "https://localhost:8080/"
        },
        "id": "kGU2ue37GUdf",
        "outputId": "a3190519-2815-44ef-9fa6-ccbd9106c6e7"
      },
      "execution_count": null,
      "outputs": [
        {
          "output_type": "stream",
          "name": "stdout",
          "text": [
            "[0, 1.59, 2.07, 2.37, 2.66, 1.43, 1.19, 1.73, 1.4, 1.9, 1.51, 1.38, 3.14, 1.76, 2.42, 2.34, 2.74, 2.08, 3.74, 3.1, 3.89, 6.53, 5.39, 3.15, 2.57, 2.91, 3.77, 4.68, 3.4, 3.1, 2.72, 2.2, 3.95, 5.89, 3.29, 4.25, 3.74, 2.25, 2.01, 3.34, 1.5, 1.54, 2.24, 1.93, 2.7, 2.84, 3.76, 3.16, 4.01, 4.05, 3.57, 4.81, 4.08, 3.32, 3.17, 3.0, 2.47, 3.55, 3.52, 2.53, 3.84, 3.88, 4.69, 6.73, 6.05, 5.05, 5.3, 7.41, 6.97, 6.17, 6.35, 4.92, 5.12, 6.03, 6.63, 7.68, 8.4, 7.77, 5.95, 6.34]\n"
          ]
        },
        {
          "output_type": "execute_result",
          "data": {
            "text/plain": [
              "list"
            ]
          },
          "metadata": {},
          "execution_count": 16
        }
      ]
    },
    {
      "cell_type": "code",
      "source": [
        "Datos = df.assign(analisis = analisis)"
      ],
      "metadata": {
        "id": "DL0cgxF6GWk9"
      },
      "execution_count": null,
      "outputs": []
    },
    {
      "cell_type": "code",
      "source": [
        "Datos.indice_tiempo = pd.to_datetime(Datos.indice_tiempo, dayfirst = True)\n",
        "Datos.set_index(\"indice_tiempo\", inplace=True)"
      ],
      "metadata": {
        "id": "gZbsxPSvGYj5"
      },
      "execution_count": null,
      "outputs": []
    },
    {
      "cell_type": "code",
      "source": [
        "Datos.drop(['2016-12-01'],inplace=True)"
      ],
      "metadata": {
        "id": "lMsTyKhjGckA"
      },
      "execution_count": null,
      "outputs": []
    },
    {
      "cell_type": "code",
      "source": [
        "Datos.dtypes"
      ],
      "metadata": {
        "colab": {
          "base_uri": "https://localhost:8080/"
        },
        "id": "xfSJ4pYtGhdM",
        "outputId": "9288578c-42e4-45a6-e1d0-2e37e7de7bf9"
      },
      "execution_count": null,
      "outputs": [
        {
          "output_type": "execute_result",
          "data": {
            "text/plain": [
              "ipc_nivel_general_nacional    float64\n",
              "analisis                      float64\n",
              "dtype: object"
            ]
          },
          "metadata": {},
          "execution_count": 20
        }
      ]
    },
    {
      "cell_type": "code",
      "source": [
        "Datos.tail()"
      ],
      "metadata": {
        "colab": {
          "base_uri": "https://localhost:8080/",
          "height": 238
        },
        "id": "sgjKO0DyGjwP",
        "outputId": "c83d4d9e-bf9f-472f-9065-c2a0d92aac58"
      },
      "execution_count": null,
      "outputs": [
        {
          "output_type": "execute_result",
          "data": {
            "text/plain": [
              "               ipc_nivel_general_nacional  analisis\n",
              "indice_tiempo                                      \n",
              "2023-03-01                      1381.1601      7.68\n",
              "2023-04-01                      1497.2147      8.40\n",
              "2023-05-01                      1613.5895      7.77\n",
              "2023-06-01                      1709.6115      5.95\n",
              "2023-07-01                      1818.0838      6.34"
            ],
            "text/html": [
              "\n",
              "  <div id=\"df-57819119-52ac-40ae-bb38-471ecf56372a\" class=\"colab-df-container\">\n",
              "    <div>\n",
              "<style scoped>\n",
              "    .dataframe tbody tr th:only-of-type {\n",
              "        vertical-align: middle;\n",
              "    }\n",
              "\n",
              "    .dataframe tbody tr th {\n",
              "        vertical-align: top;\n",
              "    }\n",
              "\n",
              "    .dataframe thead th {\n",
              "        text-align: right;\n",
              "    }\n",
              "</style>\n",
              "<table border=\"1\" class=\"dataframe\">\n",
              "  <thead>\n",
              "    <tr style=\"text-align: right;\">\n",
              "      <th></th>\n",
              "      <th>ipc_nivel_general_nacional</th>\n",
              "      <th>analisis</th>\n",
              "    </tr>\n",
              "    <tr>\n",
              "      <th>indice_tiempo</th>\n",
              "      <th></th>\n",
              "      <th></th>\n",
              "    </tr>\n",
              "  </thead>\n",
              "  <tbody>\n",
              "    <tr>\n",
              "      <th>2023-03-01</th>\n",
              "      <td>1381.1601</td>\n",
              "      <td>7.68</td>\n",
              "    </tr>\n",
              "    <tr>\n",
              "      <th>2023-04-01</th>\n",
              "      <td>1497.2147</td>\n",
              "      <td>8.40</td>\n",
              "    </tr>\n",
              "    <tr>\n",
              "      <th>2023-05-01</th>\n",
              "      <td>1613.5895</td>\n",
              "      <td>7.77</td>\n",
              "    </tr>\n",
              "    <tr>\n",
              "      <th>2023-06-01</th>\n",
              "      <td>1709.6115</td>\n",
              "      <td>5.95</td>\n",
              "    </tr>\n",
              "    <tr>\n",
              "      <th>2023-07-01</th>\n",
              "      <td>1818.0838</td>\n",
              "      <td>6.34</td>\n",
              "    </tr>\n",
              "  </tbody>\n",
              "</table>\n",
              "</div>\n",
              "    <div class=\"colab-df-buttons\">\n",
              "\n",
              "  <div class=\"colab-df-container\">\n",
              "    <button class=\"colab-df-convert\" onclick=\"convertToInteractive('df-57819119-52ac-40ae-bb38-471ecf56372a')\"\n",
              "            title=\"Convert this dataframe to an interactive table.\"\n",
              "            style=\"display:none;\">\n",
              "\n",
              "  <svg xmlns=\"http://www.w3.org/2000/svg\" height=\"24px\" viewBox=\"0 -960 960 960\">\n",
              "    <path d=\"M120-120v-720h720v720H120Zm60-500h600v-160H180v160Zm220 220h160v-160H400v160Zm0 220h160v-160H400v160ZM180-400h160v-160H180v160Zm440 0h160v-160H620v160ZM180-180h160v-160H180v160Zm440 0h160v-160H620v160Z\"/>\n",
              "  </svg>\n",
              "    </button>\n",
              "\n",
              "  <style>\n",
              "    .colab-df-container {\n",
              "      display:flex;\n",
              "      gap: 12px;\n",
              "    }\n",
              "\n",
              "    .colab-df-convert {\n",
              "      background-color: #E8F0FE;\n",
              "      border: none;\n",
              "      border-radius: 50%;\n",
              "      cursor: pointer;\n",
              "      display: none;\n",
              "      fill: #1967D2;\n",
              "      height: 32px;\n",
              "      padding: 0 0 0 0;\n",
              "      width: 32px;\n",
              "    }\n",
              "\n",
              "    .colab-df-convert:hover {\n",
              "      background-color: #E2EBFA;\n",
              "      box-shadow: 0px 1px 2px rgba(60, 64, 67, 0.3), 0px 1px 3px 1px rgba(60, 64, 67, 0.15);\n",
              "      fill: #174EA6;\n",
              "    }\n",
              "\n",
              "    .colab-df-buttons div {\n",
              "      margin-bottom: 4px;\n",
              "    }\n",
              "\n",
              "    [theme=dark] .colab-df-convert {\n",
              "      background-color: #3B4455;\n",
              "      fill: #D2E3FC;\n",
              "    }\n",
              "\n",
              "    [theme=dark] .colab-df-convert:hover {\n",
              "      background-color: #434B5C;\n",
              "      box-shadow: 0px 1px 3px 1px rgba(0, 0, 0, 0.15);\n",
              "      filter: drop-shadow(0px 1px 2px rgba(0, 0, 0, 0.3));\n",
              "      fill: #FFFFFF;\n",
              "    }\n",
              "  </style>\n",
              "\n",
              "    <script>\n",
              "      const buttonEl =\n",
              "        document.querySelector('#df-57819119-52ac-40ae-bb38-471ecf56372a button.colab-df-convert');\n",
              "      buttonEl.style.display =\n",
              "        google.colab.kernel.accessAllowed ? 'block' : 'none';\n",
              "\n",
              "      async function convertToInteractive(key) {\n",
              "        const element = document.querySelector('#df-57819119-52ac-40ae-bb38-471ecf56372a');\n",
              "        const dataTable =\n",
              "          await google.colab.kernel.invokeFunction('convertToInteractive',\n",
              "                                                    [key], {});\n",
              "        if (!dataTable) return;\n",
              "\n",
              "        const docLinkHtml = 'Like what you see? Visit the ' +\n",
              "          '<a target=\"_blank\" href=https://colab.research.google.com/notebooks/data_table.ipynb>data table notebook</a>'\n",
              "          + ' to learn more about interactive tables.';\n",
              "        element.innerHTML = '';\n",
              "        dataTable['output_type'] = 'display_data';\n",
              "        await google.colab.output.renderOutput(dataTable, element);\n",
              "        const docLink = document.createElement('div');\n",
              "        docLink.innerHTML = docLinkHtml;\n",
              "        element.appendChild(docLink);\n",
              "      }\n",
              "    </script>\n",
              "  </div>\n",
              "\n",
              "\n",
              "<div id=\"df-de527bb8-5ac2-4af0-a4b7-9347bc3bba14\">\n",
              "  <button class=\"colab-df-quickchart\" onclick=\"quickchart('df-de527bb8-5ac2-4af0-a4b7-9347bc3bba14')\"\n",
              "            title=\"Suggest charts.\"\n",
              "            style=\"display:none;\">\n",
              "\n",
              "<svg xmlns=\"http://www.w3.org/2000/svg\" height=\"24px\"viewBox=\"0 0 24 24\"\n",
              "     width=\"24px\">\n",
              "    <g>\n",
              "        <path d=\"M19 3H5c-1.1 0-2 .9-2 2v14c0 1.1.9 2 2 2h14c1.1 0 2-.9 2-2V5c0-1.1-.9-2-2-2zM9 17H7v-7h2v7zm4 0h-2V7h2v10zm4 0h-2v-4h2v4z\"/>\n",
              "    </g>\n",
              "</svg>\n",
              "  </button>\n",
              "\n",
              "<style>\n",
              "  .colab-df-quickchart {\n",
              "    background-color: #E8F0FE;\n",
              "    border: none;\n",
              "    border-radius: 50%;\n",
              "    cursor: pointer;\n",
              "    display: none;\n",
              "    fill: #1967D2;\n",
              "    height: 32px;\n",
              "    padding: 0 0 0 0;\n",
              "    width: 32px;\n",
              "  }\n",
              "\n",
              "  .colab-df-quickchart:hover {\n",
              "    background-color: #E2EBFA;\n",
              "    box-shadow: 0px 1px 2px rgba(60, 64, 67, 0.3), 0px 1px 3px 1px rgba(60, 64, 67, 0.15);\n",
              "    fill: #174EA6;\n",
              "  }\n",
              "\n",
              "  [theme=dark] .colab-df-quickchart {\n",
              "    background-color: #3B4455;\n",
              "    fill: #D2E3FC;\n",
              "  }\n",
              "\n",
              "  [theme=dark] .colab-df-quickchart:hover {\n",
              "    background-color: #434B5C;\n",
              "    box-shadow: 0px 1px 3px 1px rgba(0, 0, 0, 0.15);\n",
              "    filter: drop-shadow(0px 1px 2px rgba(0, 0, 0, 0.3));\n",
              "    fill: #FFFFFF;\n",
              "  }\n",
              "</style>\n",
              "\n",
              "  <script>\n",
              "    async function quickchart(key) {\n",
              "      const charts = await google.colab.kernel.invokeFunction(\n",
              "          'suggestCharts', [key], {});\n",
              "    }\n",
              "    (() => {\n",
              "      let quickchartButtonEl =\n",
              "        document.querySelector('#df-de527bb8-5ac2-4af0-a4b7-9347bc3bba14 button');\n",
              "      quickchartButtonEl.style.display =\n",
              "        google.colab.kernel.accessAllowed ? 'block' : 'none';\n",
              "    })();\n",
              "  </script>\n",
              "</div>\n",
              "    </div>\n",
              "  </div>\n"
            ]
          },
          "metadata": {},
          "execution_count": 21
        }
      ]
    },
    {
      "cell_type": "markdown",
      "source": [
        "VEMOS COMO SE COMPORTA UNA SERIE EXPLOSIVA ="
      ],
      "metadata": {
        "id": "6pXlOFg9T28n"
      }
    },
    {
      "cell_type": "code",
      "source": [
        "Datos.ipc_nivel_general_nacional.plot()"
      ],
      "metadata": {
        "colab": {
          "base_uri": "https://localhost:8080/",
          "height": 713
        },
        "id": "vSME-WztzOiF",
        "outputId": "eb85fc79-3cb2-47ae-965c-1fe6a174e4fa"
      },
      "execution_count": null,
      "outputs": [
        {
          "output_type": "execute_result",
          "data": {
            "text/plain": [
              "<Axes: xlabel='indice_tiempo'>"
            ]
          },
          "metadata": {},
          "execution_count": 22
        },
        {
          "output_type": "display_data",
          "data": {
            "text/plain": [
              "<Figure size 1200x800 with 1 Axes>"
            ],
            "image/png": "[encoded data removed]"
          },
          "metadata": {}
        }
      ]
    },
    {
      "cell_type": "code",
      "source": [
        "plot_acf(Datos.ipc_nivel_general_nacional);\n",
        "plot_pacf(Datos.ipc_nivel_general_nacional);"
      ],
      "metadata": {
        "colab": {
          "base_uri": "https://localhost:8080/",
          "height": 1000
        },
        "id": "UNr3_W3B2rym",
        "outputId": "30c89b80-afd2-4f97-adfc-ae431616e2f3"
      },
      "execution_count": null,
      "outputs": [
        {
          "output_type": "display_data",
          "data": {
            "text/plain": [
              "<Figure size 1200x800 with 1 Axes>"
            ],
            "image/png": "[encoded data removed]"
          },
          "metadata": {}
        },
        {
          "output_type": "display_data",
          "data": {
            "text/plain": [
              "<Figure size 1200x800 with 1 Axes>"
            ],
            "image/png": "[encoded data removed]"
          },
          "metadata": {}
        }
      ]
    },
    {
      "cell_type": "code",
      "source": [
        "model = sm.tsa.arima.ARIMA(Datos.ipc_nivel_general_nacional, order=(1,0,0))\n",
        "result = model.fit()"
      ],
      "metadata": {
        "id": "yHQyk39C3A-l"
      },
      "execution_count": null,
      "outputs": []
    },
    {
      "cell_type": "markdown",
      "source": [
        "AQUI VEMOS LAS RAICES DEL MODELO AR1. QUE SON TENDIENDO A 1. ES DECIR, TIENEN UN COMPRTAMIENTO EXPLOSIVO"
      ],
      "metadata": {
        "id": "1dblzZG-T9Ka"
      }
    },
    {
      "cell_type": "code",
      "source": [
        "result.arroots"
      ],
      "metadata": {
        "colab": {
          "base_uri": "https://localhost:8080/"
        },
        "id": "F8Bhtq8510j-",
        "outputId": "299ebdd2-01b9-498a-d202-3f6422bfb6e5"
      },
      "execution_count": null,
      "outputs": [
        {
          "output_type": "execute_result",
          "data": {
            "text/plain": [
              "array([1.00069235])"
            ]
          },
          "metadata": {},
          "execution_count": 25
        }
      ]
    },
    {
      "cell_type": "code",
      "source": [
        "result.arroots"
      ],
      "metadata": {
        "id": "NeHE2-7jUR_4",
        "colab": {
          "base_uri": "https://localhost:8080/"
        },
        "outputId": "d5aa7e5b-6bc9-489d-d99e-3935f9a766d2"
      },
      "execution_count": null,
      "outputs": [
        {
          "output_type": "execute_result",
          "data": {
            "text/plain": [
              "array([1.00069235])"
            ]
          },
          "metadata": {},
          "execution_count": 26
        }
      ]
    },
    {
      "cell_type": "markdown",
      "source": [
        "Ahora vamos a analizar teniendo en cuenta el % de variacion mensual. Y le aplicamos un modelo AR(1)"
      ],
      "metadata": {
        "id": "YGtpnmHQUDpE"
      }
    },
    {
      "cell_type": "code",
      "source": [
        "plot_acf(Datos.analisis);\n",
        "plot_pacf(Datos.analisis);"
      ],
      "metadata": {
        "colab": {
          "base_uri": "https://localhost:8080/",
          "height": 1000
        },
        "id": "03Ij4gxjUXDg",
        "outputId": "6bee74b4-0c3d-4fea-a23b-2781a675c344"
      },
      "execution_count": null,
      "outputs": [
        {
          "output_type": "display_data",
          "data": {
            "text/plain": [
              "<Figure size 1200x800 with 1 Axes>"
            ],
            "image/png": "[encoded data removed]"
          },
          "metadata": {}
        },
        {
          "output_type": "display_data",
          "data": {
            "text/plain": [
              "<Figure size 1200x800 with 1 Axes>"
            ],
            "image/png": "[encoded data removed]"
          },
          "metadata": {}
        }
      ]
    },
    {
      "cell_type": "code",
      "source": [
        "model = sm.tsa.arima.ARIMA(Datos.analisis, order=(1,0,0))\n",
        "result = model.fit()"
      ],
      "metadata": {
        "id": "wpYXMydTUPh8"
      },
      "execution_count": null,
      "outputs": []
    },
    {
      "cell_type": "code",
      "source": [
        "result.summary()"
      ],
      "metadata": {
        "id": "YzFbKlhYMQei",
        "outputId": "b97027af-0630-4faa-f4f2-186ca69dd2f5",
        "colab": {
          "base_uri": "https://localhost:8080/",
          "height": 417
        }
      },
      "execution_count": null,
      "outputs": [
        {
          "output_type": "execute_result",
          "data": {
            "text/plain": [
              "<class 'statsmodels.iolib.summary.Summary'>\n",
              "\"\"\"\n",
              "                               SARIMAX Results                                \n",
              "==============================================================================\n",
              "Dep. Variable:               analisis   No. Observations:                   79\n",
              "Model:                 ARIMA(1, 0, 0)   Log Likelihood                -111.945\n",
              "Date:                Mon, 28 Aug 2023   AIC                            229.891\n",
              "Time:                        18:28:38   BIC                            236.999\n",
              "Sample:                    01-01-2017   HQIC                           232.738\n",
              "                         - 07-01-2023                                         \n",
              "Covariance Type:                  opg                                         \n",
              "==============================================================================\n",
              "                 coef    std err          z      P>|z|      [0.025      0.975]\n",
              "------------------------------------------------------------------------------\n",
              "const          3.7788      0.655      5.773      0.000       2.496       5.062\n",
              "ar.L1          0.8369      0.072     11.646      0.000       0.696       0.978\n",
              "sigma2         0.9811      0.159      6.183      0.000       0.670       1.292\n",
              "===================================================================================\n",
              "Ljung-Box (L1) (Q):                   0.39   Jarque-Bera (JB):                 0.95\n",
              "Prob(Q):                              0.53   Prob(JB):                         0.62\n",
              "Heteroskedasticity (H):               1.00   Skew:                             0.27\n",
              "Prob(H) (two-sided):                  0.99   Kurtosis:                         2.99\n",
              "===================================================================================\n",
              "\n",
              "Warnings:\n",
              "[1] Covariance matrix calculated using the outer product of gradients (complex-step).\n",
              "\"\"\""
            ],
            "text/html": [
              "<table class=\"simpletable\">\n",
              "<caption>SARIMAX Results</caption>\n",
              "<tr>\n",
              "  <th>Dep. Variable:</th>       <td>analisis</td>     <th>  No. Observations:  </th>    <td>79</td>   \n",
              "</tr>\n",
              "<tr>\n",
              "  <th>Model:</th>            <td>ARIMA(1, 0, 0)</td>  <th>  Log Likelihood     </th> <td>-111.945</td>\n",
              "</tr>\n",
              "<tr>\n",
              "  <th>Date:</th>            <td>Mon, 28 Aug 2023</td> <th>  AIC                </th>  <td>229.891</td>\n",
              "</tr>\n",
              "<tr>\n",
              "  <th>Time:</th>                <td>18:28:38</td>     <th>  BIC                </th>  <td>236.999</td>\n",
              "</tr>\n",
              "<tr>\n",
              "  <th>Sample:</th>             <td>01-01-2017</td>    <th>  HQIC               </th>  <td>232.738</td>\n",
              "</tr>\n",
              "<tr>\n",
              "  <th></th>                   <td>- 07-01-2023</td>   <th>                     </th>     <td> </td>   \n",
              "</tr>\n",
              "<tr>\n",
              "  <th>Covariance Type:</th>        <td>opg</td>       <th>                     </th>     <td> </td>   \n",
              "</tr>\n",
              "</table>\n",
              "<table class=\"simpletable\">\n",
              "<tr>\n",
              "     <td></td>       <th>coef</th>     <th>std err</th>      <th>z</th>      <th>P>|z|</th>  <th>[0.025</th>    <th>0.975]</th>  \n",
              "</tr>\n",
              "<tr>\n",
              "  <th>const</th>  <td>    3.7788</td> <td>    0.655</td> <td>    5.773</td> <td> 0.000</td> <td>    2.496</td> <td>    5.062</td>\n",
              "</tr>\n",
              "<tr>\n",
              "  <th>ar.L1</th>  <td>    0.8369</td> <td>    0.072</td> <td>   11.646</td> <td> 0.000</td> <td>    0.696</td> <td>    0.978</td>\n",
              "</tr>\n",
              "<tr>\n",
              "  <th>sigma2</th> <td>    0.9811</td> <td>    0.159</td> <td>    6.183</td> <td> 0.000</td> <td>    0.670</td> <td>    1.292</td>\n",
              "</tr>\n",
              "</table>\n",
              "<table class=\"simpletable\">\n",
              "<tr>\n",
              "  <th>Ljung-Box (L1) (Q):</th>     <td>0.39</td> <th>  Jarque-Bera (JB):  </th> <td>0.95</td>\n",
              "</tr>\n",
              "<tr>\n",
              "  <th>Prob(Q):</th>                <td>0.53</td> <th>  Prob(JB):          </th> <td>0.62</td>\n",
              "</tr>\n",
              "<tr>\n",
              "  <th>Heteroskedasticity (H):</th> <td>1.00</td> <th>  Skew:              </th> <td>0.27</td>\n",
              "</tr>\n",
              "<tr>\n",
              "  <th>Prob(H) (two-sided):</th>    <td>0.99</td> <th>  Kurtosis:          </th> <td>2.99</td>\n",
              "</tr>\n",
              "</table><br/><br/>Warnings:<br/>[1] Covariance matrix calculated using the outer product of gradients (complex-step)."
            ],
            "text/latex": "\\begin{center}\n\\begin{tabular}{lclc}\n\\toprule\n\\textbf{Dep. Variable:}          &     analisis     & \\textbf{  No. Observations:  } &     79      \\\\\n\\textbf{Model:}                  &  ARIMA(1, 0, 0)  & \\textbf{  Log Likelihood     } &  -111.945   \\\\\n\\textbf{Date:}                   & Mon, 28 Aug 2023 & \\textbf{  AIC                } &  229.891    \\\\\n\\textbf{Time:}                   &     18:28:38     & \\textbf{  BIC                } &  236.999    \\\\\n\\textbf{Sample:}                 &    01-01-2017    & \\textbf{  HQIC               } &  232.738    \\\\\n\\textbf{}                        &   - 07-01-2023   & \\textbf{                     } &             \\\\\n\\textbf{Covariance Type:}        &       opg        & \\textbf{                     } &             \\\\\n\\bottomrule\n\\end{tabular}\n\\begin{tabular}{lcccccc}\n                & \\textbf{coef} & \\textbf{std err} & \\textbf{z} & \\textbf{P$> |$z$|$} & \\textbf{[0.025} & \\textbf{0.975]}  \\\\\n\\midrule\n\\textbf{const}  &       3.7788  &        0.655     &     5.773  &         0.000        &        2.496    &        5.062     \\\\\n\\textbf{ar.L1}  &       0.8369  &        0.072     &    11.646  &         0.000        &        0.696    &        0.978     \\\\\n\\textbf{sigma2} &       0.9811  &        0.159     &     6.183  &         0.000        &        0.670    &        1.292     \\\\\n\\bottomrule\n\\end{tabular}\n\\begin{tabular}{lclc}\n\\textbf{Ljung-Box (L1) (Q):}     & 0.39 & \\textbf{  Jarque-Bera (JB):  } & 0.95  \\\\\n\\textbf{Prob(Q):}                & 0.53 & \\textbf{  Prob(JB):          } & 0.62  \\\\\n\\textbf{Heteroskedasticity (H):} & 1.00 & \\textbf{  Skew:              } & 0.27  \\\\\n\\textbf{Prob(H) (two-sided):}    & 0.99 & \\textbf{  Kurtosis:          } & 2.99  \\\\\n\\bottomrule\n\\end{tabular}\n%\\caption{SARIMAX Results}\n\\end{center}\n\nWarnings: \\newline\n [1] Covariance matrix calculated using the outer product of gradients (complex-step)."
          },
          "metadata": {},
          "execution_count": 29
        }
      ]
    },
    {
      "cell_type": "code",
      "source": [
        "# defino diferentes variables para realizar analisis\n",
        "\n",
        "T = result.resid.shape[0]  # número de datos\n",
        "M = 7   # máximo número de rezagos que elijo\n",
        "rezagos = np.arange(1, M+1)\n",
        "alpha = 0.05  # significancia de los test\n"
      ],
      "metadata": {
        "id": "mj6Z74VB3Lny"
      },
      "execution_count": null,
      "outputs": []
    },
    {
      "cell_type": "code",
      "source": [
        "print(rezagos)"
      ],
      "metadata": {
        "id": "qPYxd6x-tLyW",
        "outputId": "8c319b7f-b645-4e2c-f49e-8bf4fe392678",
        "colab": {
          "base_uri": "https://localhost:8080/"
        }
      },
      "execution_count": null,
      "outputs": [
        {
          "output_type": "stream",
          "name": "stdout",
          "text": [
            "[1 2 3 4 5 6 7]\n"
          ]
        }
      ]
    },
    {
      "cell_type": "code",
      "source": [
        "rho = sm.tsa.acf(result.resid, fft=True, nlags=M)[1:]\n",
        "rho\n",
        "# Aqui vemos si los numeros son grandes o pequeños.\n",
        "# Si son grandes es evidencia en contra de que los rezagos son ruido blanco ( si son pequeños es una evidencia, a favor del ruido blanco)."
      ],
      "metadata": {
        "colab": {
          "base_uri": "https://localhost:8080/"
        },
        "id": "rCRrGZbV3Ubt",
        "outputId": "5b227832-3415-4513-d566-a7dbe18d92e7"
      },
      "execution_count": null,
      "outputs": [
        {
          "output_type": "execute_result",
          "data": {
            "text/plain": [
              "array([-0.06740036, -0.14502396,  0.1468345 , -0.06367036, -0.05657422,\n",
              "        0.31457237,  0.04871066])"
            ]
          },
          "metadata": {},
          "execution_count": 32
        }
      ]
    },
    {
      "cell_type": "markdown",
      "source": [
        "Calculamos las autocorrelaciones. Esto lo hacemos gracias al modulo \"Time Series Analysis\" / Funcion Autocorrelaciones.\n",
        "Conservamos desde el elemento 1 en adelante"
      ],
      "metadata": {
        "id": "fZOwXrPU1V0A"
      }
    },
    {
      "cell_type": "markdown",
      "source": [
        "Calculamos el estadistico de Box-Pierce para todos los rezagos desde el 1 hasta el 7"
      ],
      "metadata": {
        "id": "mO_ysiD1Cxql"
      }
    },
    {
      "cell_type": "code",
      "source": [
        "Qstar = T * (rho ** 2).cumsum()"
      ],
      "metadata": {
        "id": "eTQHNxZF15kR"
      },
      "execution_count": null,
      "outputs": []
    },
    {
      "cell_type": "markdown",
      "source": [
        "Calculamos el estadistico de Ljung-Box"
      ],
      "metadata": {
        "id": "yWvwTJIUEEQM"
      }
    },
    {
      "cell_type": "code",
      "source": [
        "Q = T * (T+2) * ((rho ** 2)/(T-rezagos)).cumsum()"
      ],
      "metadata": {
        "id": "Jzj4umbm2atb"
      },
      "execution_count": null,
      "outputs": []
    },
    {
      "cell_type": "markdown",
      "source": [
        "Calculamos los valores criticos"
      ],
      "metadata": {
        "id": "Bv8vgsAnEPC9"
      }
    },
    {
      "cell_type": "code",
      "source": [
        "vcrits = np.array([chi2(k).ppf(1-alpha) for k in rezagos])"
      ],
      "metadata": {
        "id": "8mbNSc_d2hCn"
      },
      "execution_count": null,
      "outputs": []
    },
    {
      "cell_type": "markdown",
      "source": [
        "# Calculamos la autocorrelacion parcial"
      ],
      "metadata": {
        "id": "PewAUuTuEiKD"
      }
    },
    {
      "cell_type": "code",
      "source": [
        "rhop = sm.tsa.pacf(result.resid, nlags=M, method='ols')[1:]"
      ],
      "metadata": {
        "id": "MwtniJLh3086"
      },
      "execution_count": null,
      "outputs": []
    },
    {
      "cell_type": "code",
      "source": [
        "resumen2 = pd.DataFrame({'AC':rho, 'PAC': rhop}, index=rezagos)\n",
        "resumen2.index.name = 'Rezagos'\n",
        "\n",
        "resumen2.round(4)"
      ],
      "metadata": {
        "id": "LQ7z6AeGJmgD",
        "colab": {
          "base_uri": "https://localhost:8080/",
          "height": 300
        },
        "outputId": "7c287a47-cd9b-4279-a9ef-15f0b23a23e6"
      },
      "execution_count": null,
      "outputs": [
        {
          "output_type": "execute_result",
          "data": {
            "text/plain": [
              "             AC     PAC\n",
              "Rezagos                \n",
              "1       -0.0674 -0.0676\n",
              "2       -0.1450 -0.1534\n",
              "3        0.1468  0.1328\n",
              "4       -0.0637 -0.0732\n",
              "5       -0.0566 -0.0271\n",
              "6        0.3146  0.3045\n",
              "7        0.0487  0.1415"
            ],
            "text/html": [
              "\n",
              "  <div id=\"df-4ca4b01f-f966-490b-8033-b1246412b995\" class=\"colab-df-container\">\n",
              "    <div>\n",
              "<style scoped>\n",
              "    .dataframe tbody tr th:only-of-type {\n",
              "        vertical-align: middle;\n",
              "    }\n",
              "\n",
              "    .dataframe tbody tr th {\n",
              "        vertical-align: top;\n",
              "    }\n",
              "\n",
              "    .dataframe thead th {\n",
              "        text-align: right;\n",
              "    }\n",
              "</style>\n",
              "<table border=\"1\" class=\"dataframe\">\n",
              "  <thead>\n",
              "    <tr style=\"text-align: right;\">\n",
              "      <th></th>\n",
              "      <th>AC</th>\n",
              "      <th>PAC</th>\n",
              "    </tr>\n",
              "    <tr>\n",
              "      <th>Rezagos</th>\n",
              "      <th></th>\n",
              "      <th></th>\n",
              "    </tr>\n",
              "  </thead>\n",
              "  <tbody>\n",
              "    <tr>\n",
              "      <th>1</th>\n",
              "      <td>-0.0674</td>\n",
              "      <td>-0.0676</td>\n",
              "    </tr>\n",
              "    <tr>\n",
              "      <th>2</th>\n",
              "      <td>-0.1450</td>\n",
              "      <td>-0.1534</td>\n",
              "    </tr>\n",
              "    <tr>\n",
              "      <th>3</th>\n",
              "      <td>0.1468</td>\n",
              "      <td>0.1328</td>\n",
              "    </tr>\n",
              "    <tr>\n",
              "      <th>4</th>\n",
              "      <td>-0.0637</td>\n",
              "      <td>-0.0732</td>\n",
              "    </tr>\n",
              "    <tr>\n",
              "      <th>5</th>\n",
              "      <td>-0.0566</td>\n",
              "      <td>-0.0271</td>\n",
              "    </tr>\n",
              "    <tr>\n",
              "      <th>6</th>\n",
              "      <td>0.3146</td>\n",
              "      <td>0.3045</td>\n",
              "    </tr>\n",
              "    <tr>\n",
              "      <th>7</th>\n",
              "      <td>0.0487</td>\n",
              "      <td>0.1415</td>\n",
              "    </tr>\n",
              "  </tbody>\n",
              "</table>\n",
              "</div>\n",
              "    <div class=\"colab-df-buttons\">\n",
              "\n",
              "  <div class=\"colab-df-container\">\n",
              "    <button class=\"colab-df-convert\" onclick=\"convertToInteractive('df-4ca4b01f-f966-490b-8033-b1246412b995')\"\n",
              "            title=\"Convert this dataframe to an interactive table.\"\n",
              "            style=\"display:none;\">\n",
              "\n",
              "  <svg xmlns=\"http://www.w3.org/2000/svg\" height=\"24px\" viewBox=\"0 -960 960 960\">\n",
              "    <path d=\"M120-120v-720h720v720H120Zm60-500h600v-160H180v160Zm220 220h160v-160H400v160Zm0 220h160v-160H400v160ZM180-400h160v-160H180v160Zm440 0h160v-160H620v160ZM180-180h160v-160H180v160Zm440 0h160v-160H620v160Z\"/>\n",
              "  </svg>\n",
              "    </button>\n",
              "\n",
              "  <style>\n",
              "    .colab-df-container {\n",
              "      display:flex;\n",
              "      gap: 12px;\n",
              "    }\n",
              "\n",
              "    .colab-df-convert {\n",
              "      background-color: #E8F0FE;\n",
              "      border: none;\n",
              "      border-radius: 50%;\n",
              "      cursor: pointer;\n",
              "      display: none;\n",
              "      fill: #1967D2;\n",
              "      height: 32px;\n",
              "      padding: 0 0 0 0;\n",
              "      width: 32px;\n",
              "    }\n",
              "\n",
              "    .colab-df-convert:hover {\n",
              "      background-color: #E2EBFA;\n",
              "      box-shadow: 0px 1px 2px rgba(60, 64, 67, 0.3), 0px 1px 3px 1px rgba(60, 64, 67, 0.15);\n",
              "      fill: #174EA6;\n",
              "    }\n",
              "\n",
              "    .colab-df-buttons div {\n",
              "      margin-bottom: 4px;\n",
              "    }\n",
              "\n",
              "    [theme=dark] .colab-df-convert {\n",
              "      background-color: #3B4455;\n",
              "      fill: #D2E3FC;\n",
              "    }\n",
              "\n",
              "    [theme=dark] .colab-df-convert:hover {\n",
              "      background-color: #434B5C;\n",
              "      box-shadow: 0px 1px 3px 1px rgba(0, 0, 0, 0.15);\n",
              "      filter: drop-shadow(0px 1px 2px rgba(0, 0, 0, 0.3));\n",
              "      fill: #FFFFFF;\n",
              "    }\n",
              "  </style>\n",
              "\n",
              "    <script>\n",
              "      const buttonEl =\n",
              "        document.querySelector('#df-4ca4b01f-f966-490b-8033-b1246412b995 button.colab-df-convert');\n",
              "      buttonEl.style.display =\n",
              "        google.colab.kernel.accessAllowed ? 'block' : 'none';\n",
              "\n",
              "      async function convertToInteractive(key) {\n",
              "        const element = document.querySelector('#df-4ca4b01f-f966-490b-8033-b1246412b995');\n",
              "        const dataTable =\n",
              "          await google.colab.kernel.invokeFunction('convertToInteractive',\n",
              "                                                    [key], {});\n",
              "        if (!dataTable) return;\n",
              "\n",
              "        const docLinkHtml = 'Like what you see? Visit the ' +\n",
              "          '<a target=\"_blank\" href=https://colab.research.google.com/notebooks/data_table.ipynb>data table notebook</a>'\n",
              "          + ' to learn more about interactive tables.';\n",
              "        element.innerHTML = '';\n",
              "        dataTable['output_type'] = 'display_data';\n",
              "        await google.colab.output.renderOutput(dataTable, element);\n",
              "        const docLink = document.createElement('div');\n",
              "        docLink.innerHTML = docLinkHtml;\n",
              "        element.appendChild(docLink);\n",
              "      }\n",
              "    </script>\n",
              "  </div>\n",
              "\n",
              "\n",
              "<div id=\"df-d3fcc0a8-46fd-46c4-8589-30eaa9ab2883\">\n",
              "  <button class=\"colab-df-quickchart\" onclick=\"quickchart('df-d3fcc0a8-46fd-46c4-8589-30eaa9ab2883')\"\n",
              "            title=\"Suggest charts.\"\n",
              "            style=\"display:none;\">\n",
              "\n",
              "<svg xmlns=\"http://www.w3.org/2000/svg\" height=\"24px\"viewBox=\"0 0 24 24\"\n",
              "     width=\"24px\">\n",
              "    <g>\n",
              "        <path d=\"M19 3H5c-1.1 0-2 .9-2 2v14c0 1.1.9 2 2 2h14c1.1 0 2-.9 2-2V5c0-1.1-.9-2-2-2zM9 17H7v-7h2v7zm4 0h-2V7h2v10zm4 0h-2v-4h2v4z\"/>\n",
              "    </g>\n",
              "</svg>\n",
              "  </button>\n",
              "\n",
              "<style>\n",
              "  .colab-df-quickchart {\n",
              "    background-color: #E8F0FE;\n",
              "    border: none;\n",
              "    border-radius: 50%;\n",
              "    cursor: pointer;\n",
              "    display: none;\n",
              "    fill: #1967D2;\n",
              "    height: 32px;\n",
              "    padding: 0 0 0 0;\n",
              "    width: 32px;\n",
              "  }\n",
              "\n",
              "  .colab-df-quickchart:hover {\n",
              "    background-color: #E2EBFA;\n",
              "    box-shadow: 0px 1px 2px rgba(60, 64, 67, 0.3), 0px 1px 3px 1px rgba(60, 64, 67, 0.15);\n",
              "    fill: #174EA6;\n",
              "  }\n",
              "\n",
              "  [theme=dark] .colab-df-quickchart {\n",
              "    background-color: #3B4455;\n",
              "    fill: #D2E3FC;\n",
              "  }\n",
              "\n",
              "  [theme=dark] .colab-df-quickchart:hover {\n",
              "    background-color: #434B5C;\n",
              "    box-shadow: 0px 1px 3px 1px rgba(0, 0, 0, 0.15);\n",
              "    filter: drop-shadow(0px 1px 2px rgba(0, 0, 0, 0.3));\n",
              "    fill: #FFFFFF;\n",
              "  }\n",
              "</style>\n",
              "\n",
              "  <script>\n",
              "    async function quickchart(key) {\n",
              "      const charts = await google.colab.kernel.invokeFunction(\n",
              "          'suggestCharts', [key], {});\n",
              "    }\n",
              "    (() => {\n",
              "      let quickchartButtonEl =\n",
              "        document.querySelector('#df-d3fcc0a8-46fd-46c4-8589-30eaa9ab2883 button');\n",
              "      quickchartButtonEl.style.display =\n",
              "        google.colab.kernel.accessAllowed ? 'block' : 'none';\n",
              "    })();\n",
              "  </script>\n",
              "</div>\n",
              "    </div>\n",
              "  </div>\n"
            ]
          },
          "metadata": {},
          "execution_count": 37
        }
      ]
    },
    {
      "cell_type": "code",
      "source": [
        "plot_acf(result.resid);\n",
        "plot_pacf(result.resid);"
      ],
      "metadata": {
        "colab": {
          "base_uri": "https://localhost:8080/",
          "height": 1000
        },
        "id": "1-Gow1RviUug",
        "outputId": "f2cf745e-b354-4a46-d286-b59e68171b79"
      },
      "execution_count": null,
      "outputs": [
        {
          "output_type": "display_data",
          "data": {
            "text/plain": [
              "<Figure size 1200x800 with 1 Axes>"
            ],
            "image/png": "[encoded data removed]"
          },
          "metadata": {}
        },
        {
          "output_type": "display_data",
          "data": {
            "text/plain": [
              "<Figure size 1200x800 with 1 Axes>"
            ],
            "image/png": "[encoded data removed]"
          },
          "metadata": {}
        }
      ]
    },
    {
      "cell_type": "code",
      "source": [
        "resumen2 = pd.DataFrame({'Box-Pierce':Qstar, '* Ljung-Box':Q, 'Valores criticos': vcrits}, index=rezagos)\n",
        "resumen2.index.name = 'Rezagos'\n",
        "\n",
        "resumen2.round(4)"
      ],
      "metadata": {
        "colab": {
          "base_uri": "https://localhost:8080/",
          "height": 300
        },
        "id": "y5JAfsYL34zO",
        "outputId": "2877175c-c6aa-4725-a25c-5db96c4f767b"
      },
      "execution_count": null,
      "outputs": [
        {
          "output_type": "execute_result",
          "data": {
            "text/plain": [
              "         Box-Pierce  * Ljung-Box  Valores criticos\n",
              "Rezagos                                           \n",
              "1            0.3589       0.3727            3.8415\n",
              "2            2.0204       2.1205            5.9915\n",
              "3            3.7237       3.9358            7.8147\n",
              "4            4.0439       4.2817            9.4877\n",
              "5            4.2968       4.5585           11.0705\n",
              "6           12.1143      13.2327           12.5916\n",
              "7           12.3017      13.4436           14.0671"
            ],
            "text/html": [
              "\n",
              "  <div id=\"df-9ab69375-fd22-43bc-84e1-3be0e76f216c\" class=\"colab-df-container\">\n",
              "    <div>\n",
              "<style scoped>\n",
              "    .dataframe tbody tr th:only-of-type {\n",
              "        vertical-align: middle;\n",
              "    }\n",
              "\n",
              "    .dataframe tbody tr th {\n",
              "        vertical-align: top;\n",
              "    }\n",
              "\n",
              "    .dataframe thead th {\n",
              "        text-align: right;\n",
              "    }\n",
              "</style>\n",
              "<table border=\"1\" class=\"dataframe\">\n",
              "  <thead>\n",
              "    <tr style=\"text-align: right;\">\n",
              "      <th></th>\n",
              "      <th>Box-Pierce</th>\n",
              "      <th>* Ljung-Box</th>\n",
              "      <th>Valores criticos</th>\n",
              "    </tr>\n",
              "    <tr>\n",
              "      <th>Rezagos</th>\n",
              "      <th></th>\n",
              "      <th></th>\n",
              "      <th></th>\n",
              "    </tr>\n",
              "  </thead>\n",
              "  <tbody>\n",
              "    <tr>\n",
              "      <th>1</th>\n",
              "      <td>0.3589</td>\n",
              "      <td>0.3727</td>\n",
              "      <td>3.8415</td>\n",
              "    </tr>\n",
              "    <tr>\n",
              "      <th>2</th>\n",
              "      <td>2.0204</td>\n",
              "      <td>2.1205</td>\n",
              "      <td>5.9915</td>\n",
              "    </tr>\n",
              "    <tr>\n",
              "      <th>3</th>\n",
              "      <td>3.7237</td>\n",
              "      <td>3.9358</td>\n",
              "      <td>7.8147</td>\n",
              "    </tr>\n",
              "    <tr>\n",
              "      <th>4</th>\n",
              "      <td>4.0439</td>\n",
              "      <td>4.2817</td>\n",
              "      <td>9.4877</td>\n",
              "    </tr>\n",
              "    <tr>\n",
              "      <th>5</th>\n",
              "      <td>4.2968</td>\n",
              "      <td>4.5585</td>\n",
              "      <td>11.0705</td>\n",
              "    </tr>\n",
              "    <tr>\n",
              "      <th>6</th>\n",
              "      <td>12.1143</td>\n",
              "      <td>13.2327</td>\n",
              "      <td>12.5916</td>\n",
              "    </tr>\n",
              "    <tr>\n",
              "      <th>7</th>\n",
              "      <td>12.3017</td>\n",
              "      <td>13.4436</td>\n",
              "      <td>14.0671</td>\n",
              "    </tr>\n",
              "  </tbody>\n",
              "</table>\n",
              "</div>\n",
              "    <div class=\"colab-df-buttons\">\n",
              "\n",
              "  <div class=\"colab-df-container\">\n",
              "    <button class=\"colab-df-convert\" onclick=\"convertToInteractive('df-9ab69375-fd22-43bc-84e1-3be0e76f216c')\"\n",
              "            title=\"Convert this dataframe to an interactive table.\"\n",
              "            style=\"display:none;\">\n",
              "\n",
              "  <svg xmlns=\"http://www.w3.org/2000/svg\" height=\"24px\" viewBox=\"0 -960 960 960\">\n",
              "    <path d=\"M120-120v-720h720v720H120Zm60-500h600v-160H180v160Zm220 220h160v-160H400v160Zm0 220h160v-160H400v160ZM180-400h160v-160H180v160Zm440 0h160v-160H620v160ZM180-180h160v-160H180v160Zm440 0h160v-160H620v160Z\"/>\n",
              "  </svg>\n",
              "    </button>\n",
              "\n",
              "  <style>\n",
              "    .colab-df-container {\n",
              "      display:flex;\n",
              "      gap: 12px;\n",
              "    }\n",
              "\n",
              "    .colab-df-convert {\n",
              "      background-color: #E8F0FE;\n",
              "      border: none;\n",
              "      border-radius: 50%;\n",
              "      cursor: pointer;\n",
              "      display: none;\n",
              "      fill: #1967D2;\n",
              "      height: 32px;\n",
              "      padding: 0 0 0 0;\n",
              "      width: 32px;\n",
              "    }\n",
              "\n",
              "    .colab-df-convert:hover {\n",
              "      background-color: #E2EBFA;\n",
              "      box-shadow: 0px 1px 2px rgba(60, 64, 67, 0.3), 0px 1px 3px 1px rgba(60, 64, 67, 0.15);\n",
              "      fill: #174EA6;\n",
              "    }\n",
              "\n",
              "    .colab-df-buttons div {\n",
              "      margin-bottom: 4px;\n",
              "    }\n",
              "\n",
              "    [theme=dark] .colab-df-convert {\n",
              "      background-color: #3B4455;\n",
              "      fill: #D2E3FC;\n",
              "    }\n",
              "\n",
              "    [theme=dark] .colab-df-convert:hover {\n",
              "      background-color: #434B5C;\n",
              "      box-shadow: 0px 1px 3px 1px rgba(0, 0, 0, 0.15);\n",
              "      filter: drop-shadow(0px 1px 2px rgba(0, 0, 0, 0.3));\n",
              "      fill: #FFFFFF;\n",
              "    }\n",
              "  </style>\n",
              "\n",
              "    <script>\n",
              "      const buttonEl =\n",
              "        document.querySelector('#df-9ab69375-fd22-43bc-84e1-3be0e76f216c button.colab-df-convert');\n",
              "      buttonEl.style.display =\n",
              "        google.colab.kernel.accessAllowed ? 'block' : 'none';\n",
              "\n",
              "      async function convertToInteractive(key) {\n",
              "        const element = document.querySelector('#df-9ab69375-fd22-43bc-84e1-3be0e76f216c');\n",
              "        const dataTable =\n",
              "          await google.colab.kernel.invokeFunction('convertToInteractive',\n",
              "                                                    [key], {});\n",
              "        if (!dataTable) return;\n",
              "\n",
              "        const docLinkHtml = 'Like what you see? Visit the ' +\n",
              "          '<a target=\"_blank\" href=https://colab.research.google.com/notebooks/data_table.ipynb>data table notebook</a>'\n",
              "          + ' to learn more about interactive tables.';\n",
              "        element.innerHTML = '';\n",
              "        dataTable['output_type'] = 'display_data';\n",
              "        await google.colab.output.renderOutput(dataTable, element);\n",
              "        const docLink = document.createElement('div');\n",
              "        docLink.innerHTML = docLinkHtml;\n",
              "        element.appendChild(docLink);\n",
              "      }\n",
              "    </script>\n",
              "  </div>\n",
              "\n",
              "\n",
              "<div id=\"df-8e3f6fb8-aafa-48d7-a7f1-cec602e879b9\">\n",
              "  <button class=\"colab-df-quickchart\" onclick=\"quickchart('df-8e3f6fb8-aafa-48d7-a7f1-cec602e879b9')\"\n",
              "            title=\"Suggest charts.\"\n",
              "            style=\"display:none;\">\n",
              "\n",
              "<svg xmlns=\"http://www.w3.org/2000/svg\" height=\"24px\"viewBox=\"0 0 24 24\"\n",
              "     width=\"24px\">\n",
              "    <g>\n",
              "        <path d=\"M19 3H5c-1.1 0-2 .9-2 2v14c0 1.1.9 2 2 2h14c1.1 0 2-.9 2-2V5c0-1.1-.9-2-2-2zM9 17H7v-7h2v7zm4 0h-2V7h2v10zm4 0h-2v-4h2v4z\"/>\n",
              "    </g>\n",
              "</svg>\n",
              "  </button>\n",
              "\n",
              "<style>\n",
              "  .colab-df-quickchart {\n",
              "    background-color: #E8F0FE;\n",
              "    border: none;\n",
              "    border-radius: 50%;\n",
              "    cursor: pointer;\n",
              "    display: none;\n",
              "    fill: #1967D2;\n",
              "    height: 32px;\n",
              "    padding: 0 0 0 0;\n",
              "    width: 32px;\n",
              "  }\n",
              "\n",
              "  .colab-df-quickchart:hover {\n",
              "    background-color: #E2EBFA;\n",
              "    box-shadow: 0px 1px 2px rgba(60, 64, 67, 0.3), 0px 1px 3px 1px rgba(60, 64, 67, 0.15);\n",
              "    fill: #174EA6;\n",
              "  }\n",
              "\n",
              "  [theme=dark] .colab-df-quickchart {\n",
              "    background-color: #3B4455;\n",
              "    fill: #D2E3FC;\n",
              "  }\n",
              "\n",
              "  [theme=dark] .colab-df-quickchart:hover {\n",
              "    background-color: #434B5C;\n",
              "    box-shadow: 0px 1px 3px 1px rgba(0, 0, 0, 0.15);\n",
              "    filter: drop-shadow(0px 1px 2px rgba(0, 0, 0, 0.3));\n",
              "    fill: #FFFFFF;\n",
              "  }\n",
              "</style>\n",
              "\n",
              "  <script>\n",
              "    async function quickchart(key) {\n",
              "      const charts = await google.colab.kernel.invokeFunction(\n",
              "          'suggestCharts', [key], {});\n",
              "    }\n",
              "    (() => {\n",
              "      let quickchartButtonEl =\n",
              "        document.querySelector('#df-8e3f6fb8-aafa-48d7-a7f1-cec602e879b9 button');\n",
              "      quickchartButtonEl.style.display =\n",
              "        google.colab.kernel.accessAllowed ? 'block' : 'none';\n",
              "    })();\n",
              "  </script>\n",
              "</div>\n",
              "    </div>\n",
              "  </div>\n"
            ]
          },
          "metadata": {},
          "execution_count": 39
        }
      ]
    },
    {
      "cell_type": "code",
      "source": [
        "result.resid.mean()"
      ],
      "metadata": {
        "colab": {
          "base_uri": "https://localhost:8080/"
        },
        "id": "8dn00kHqKzgM",
        "outputId": "3185b0bd-2a71-442e-be11-29b27d20ce00"
      },
      "execution_count": null,
      "outputs": [
        {
          "output_type": "execute_result",
          "data": {
            "text/plain": [
              "0.02318110530681884"
            ]
          },
          "metadata": {},
          "execution_count": 40
        }
      ]
    },
    {
      "cell_type": "code",
      "source": [
        "result.resid.var()"
      ],
      "metadata": {
        "colab": {
          "base_uri": "https://localhost:8080/"
        },
        "id": "owfWbJBzK21m",
        "outputId": "aca09507-edf5-4397-c754-b43679827937"
      },
      "execution_count": null,
      "outputs": [
        {
          "output_type": "execute_result",
          "data": {
            "text/plain": [
              "1.0361567094220019"
            ]
          },
          "metadata": {},
          "execution_count": 41
        }
      ]
    },
    {
      "cell_type": "markdown",
      "source": [
        "GRACIAS POR SU ATENCION ! 💻"
      ],
      "metadata": {
        "id": "0xvNJPhsx42T"
      }
    }
  ]
}