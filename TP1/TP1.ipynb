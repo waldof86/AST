{
 "cells": [
  {
   "cell_type": "code",
   "execution_count": null,
   "metadata": {},
   "outputs": [],
   "source": []
  },
  {
   "cell_type": "code",
   "execution_count": 1,
   "metadata": {},
   "outputs": [],
   "source": [
    "import pandas as pd\n",
    "import numpy as np\n",
    "import matplotlib.pyplot as plt"
   ]
  },
  {
   "cell_type": "code",
   "execution_count": null,
   "metadata": {},
   "outputs": [],
   "source": [
    "fact_full = pd.read_excel('.\\Data\\Descarga_FACTURADO_CLIENTES_NB_240823.xlsx',skiprows=1)"
   ]
  },
  {
   "cell_type": "code",
   "execution_count": null,
   "metadata": {},
   "outputs": [],
   "source": [
    "fact_full.head()"
   ]
  },
  {
   "cell_type": "code",
   "execution_count": null,
   "metadata": {},
   "outputs": [],
   "source": [
    "df_fact = fact_full.groupby(by = 'Periodo', sort = True)['Suma Total'].sum().reset_index()\n",
    "df_fact.rename(columns={'Periodo': 'mes', 'Suma Total': 'fact'}, inplace = True)\n",
    "df_fact.set_index('mes', inplace = True)\n",
    "df_fact.head()"
   ]
  },
  {
   "cell_type": "code",
   "execution_count": null,
   "metadata": {},
   "outputs": [],
   "source": [
    "df_fact.fact.plot(figsize=(20,5), title = \"\")\n",
    "plt.show()"
   ]
  },
  {
   "cell_type": "code",
   "execution_count": null,
   "metadata": {},
   "outputs": [],
   "source": [
    "vent_full = pd.read_excel('.\\Data\\Descarga_VENTAS_POR_LOCALES_NB_050923.xlsx',skiprows=1)"
   ]
  },
  {
   "cell_type": "code",
   "execution_count": null,
   "metadata": {},
   "outputs": [],
   "source": [
    "vent_full.head()"
   ]
  },
  {
   "cell_type": "code",
   "execution_count": null,
   "metadata": {},
   "outputs": [],
   "source": [
    "df_vent = vent_full.groupby(by = 'Periodo', sort = True)['Importe'].sum().reset_index()\n",
    "df_vent.rename(columns={'Periodo': 'mes', 'Importe': 'ventas'}, inplace = True)\n",
    "df_vent.mes = pd.to_datetime(df_vent.mes, dayfirst = True, format = '%m/%Y')\n",
    "df_vent = df_vent.sort_values(by = 'mes')\n",
    "df_vent.set_index('mes', inplace = True)\n",
    "df_vent.head()"
   ]
  },
  {
   "cell_type": "code",
   "execution_count": null,
   "metadata": {},
   "outputs": [],
   "source": [
    "df_vent.ventas.plot(figsize=(20,5), title = \"\")\n",
    "plt.show()"
   ]
  }
 ],
 "metadata": {
  "kernelspec": {
   "display_name": "Python 3",
   "language": "python",
   "name": "python3"
  },
  "language_info": {
   "codemirror_mode": {
    "name": "ipython",
    "version": 3
   },
   "file_extension": ".py",
   "mimetype": "text/x-python",
   "name": "python",
   "nbconvert_exporter": "python",
   "pygments_lexer": "ipython3",
   "version": "3.10.13"
  }
 },
 "nbformat": 4,
 "nbformat_minor": 2
}
